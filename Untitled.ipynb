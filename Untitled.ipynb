{
 "cells": [
  {
   "cell_type": "code",
   "execution_count": 18,
   "metadata": {},
   "outputs": [],
   "source": [
    "from collections import defaultdict\n",
    "from tqdm import tqdm\n",
    "import numpy as np"
   ]
  },
  {
   "cell_type": "code",
   "execution_count": 25,
   "metadata": {},
   "outputs": [],
   "source": [
    "# Simple chat bot for ID reset"
   ]
  },
  {
   "cell_type": "code",
   "execution_count": 26,
   "metadata": {},
   "outputs": [],
   "source": [
    "db ={\n",
    "    \"Aman\": {\"ID\":\"123sad\",\"date\":\"14/06/2018\"},\n",
    "    \"Sunil\": {\"ID\":\"kghb\",\"date\":\"24/6/2018\"},\n",
    "    \"Sumanth\": {\"ID\":\"cvbby\",\"date\":\"6/9/2017\"},\n",
    "    \"Anmol\": {\"ID\":\"oty\",\"date\":\"14/8/2018\"},\n",
    "    \"Santoshi\": {\"ID\":\"asds\",\"date\":\"14/9/2017\"},\n",
    "    \"Sharath\": {\"ID\":\"cscc\",\"date\":\"14/1/2018\"},\n",
    "    \"Diagnta\": {\"ID\":\"mtry\",\"date\":\"14/2/2018\"},\n",
    "}"
   ]
  },
  {
   "cell_type": "code",
   "execution_count": 21,
   "metadata": {},
   "outputs": [
    {
     "ename": "SyntaxError",
     "evalue": "invalid syntax (<ipython-input-21-e4b9d29a0f04>, line 1)",
     "output_type": "error",
     "traceback": [
      "\u001b[0;36m  File \u001b[0;32m\"<ipython-input-21-e4b9d29a0f04>\"\u001b[0;36m, line \u001b[0;32m1\u001b[0m\n\u001b[0;31m    username_reset_model(belief_state):\u001b[0m\n\u001b[0m                                       ^\u001b[0m\n\u001b[0;31mSyntaxError\u001b[0m\u001b[0;31m:\u001b[0m invalid syntax\n"
     ]
    }
   ],
   "source": [
    "username_reset_model(belief_state):\n",
    "    if belief_state['process']['']['confidence']>0.5"
   ]
  },
  {
   "cell_type": "code",
   "execution_count": 27,
   "metadata": {},
   "outputs": [],
   "source": [
    "belief_state = {\n",
    "    \"name\": {\"value\":\"\",\"confidence\":0.0},\n",
    "    \"old_ID\": {\"value\":\"\",\"confidence\":0.0},\n",
    "    \"new_ID\": {\"value\":\"\",\"confidence\":0.0},\n",
    "    \"password_reset\": {\"value\":0,\"confidence\":0.0}\n",
    "}"
   ]
  },
  {
   "cell_type": "code",
   "execution_count": 28,
   "metadata": {},
   "outputs": [],
   "source": [
    "EMBEDDING_DIM=50"
   ]
  },
  {
   "cell_type": "code",
   "execution_count": 23,
   "metadata": {},
   "outputs": [
    {
     "name": "stderr",
     "output_type": "stream",
     "text": [
      "100%|██████████| 400001/400001 [00:05<00:00, 77344.29it/s]\n"
     ]
    }
   ],
   "source": [
    "vocab=defaultdict(lambda x: np.zeros(EMBEDDING_DIM))\n",
    "with open('glove.6B.50d.txt') as f:\n",
    "    arr=f.read().split('\\n')\n",
    "    for a in tqdm(arr):\n",
    "        arr1=a.split(' ')\n",
    "        vocab[arr1[0]]=np.array(arr1[1:])\n",
    "        "
   ]
  },
  {
   "cell_type": "markdown",
   "metadata": {},
   "source": [
    "# Training Dialog generator"
   ]
  },
  {
   "cell_type": "code",
   "execution_count": null,
   "metadata": {},
   "outputs": [],
   "source": []
  },
  {
   "cell_type": "code",
   "execution_count": null,
   "metadata": {},
   "outputs": [],
   "source": []
  }
 ],
 "metadata": {
  "kernelspec": {
   "display_name": "Python 3",
   "language": "python",
   "name": "python3"
  },
  "language_info": {
   "codemirror_mode": {
    "name": "ipython",
    "version": 3
   },
   "file_extension": ".py",
   "mimetype": "text/x-python",
   "name": "python",
   "nbconvert_exporter": "python",
   "pygments_lexer": "ipython3",
   "version": "3.6.5"
  }
 },
 "nbformat": 4,
 "nbformat_minor": 2
}
