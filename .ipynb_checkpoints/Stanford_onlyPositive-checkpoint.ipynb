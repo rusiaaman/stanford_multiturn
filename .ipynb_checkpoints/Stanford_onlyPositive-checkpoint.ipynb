{
 "cells": [
  {
   "cell_type": "code",
   "execution_count": 1,
   "metadata": {},
   "outputs": [
    {
     "name": "stderr",
     "output_type": "stream",
     "text": [
      "/usr/lib/miniconda3/lib/python3.6/site-packages/h5py/__init__.py:36: FutureWarning: Conversion of the second argument of issubdtype from `float` to `np.floating` is deprecated. In future, it will be treated as `np.float64 == np.dtype(float).type`.\n",
      "  from ._conv import register_converters as _register_converters\n",
      "Using TensorFlow backend.\n",
      "/usr/lib/miniconda3/lib/python3.6/importlib/_bootstrap.py:219: RuntimeWarning: numpy.dtype size changed, may indicate binary incompatibility. Expected 96, got 88\n",
      "  return f(*args, **kwds)\n",
      "/usr/lib/miniconda3/lib/python3.6/importlib/_bootstrap.py:219: RuntimeWarning: numpy.dtype size changed, may indicate binary incompatibility. Expected 96, got 88\n",
      "  return f(*args, **kwds)\n"
     ]
    }
   ],
   "source": [
    "import json\n",
    "import keras\n",
    "import numpy as np"
   ]
  },
  {
   "cell_type": "code",
   "execution_count": 2,
   "metadata": {},
   "outputs": [],
   "source": [
    "path='./kvret_dataset_public/'\n",
    "with open(path+'kvret_train_public.json') as f:\n",
    "    dat=json.load(f)"
   ]
  },
  {
   "cell_type": "code",
   "execution_count": 3,
   "metadata": {},
   "outputs": [],
   "source": [
    "with open(path+'kvret_dev_public.json') as f:\n",
    "    valid_dat=json.load(f)"
   ]
  },
  {
   "cell_type": "code",
   "execution_count": 4,
   "metadata": {},
   "outputs": [],
   "source": [
    "with open(path+'kvret_test_public.json') as f:\n",
    "    test_dat=json.load(f)"
   ]
  },
  {
   "cell_type": "markdown",
   "metadata": {},
   "source": [
    "# Analyzing first"
   ]
  },
  {
   "cell_type": "code",
   "execution_count": 5,
   "metadata": {},
   "outputs": [],
   "source": [
    "from collections import defaultdict\n",
    "dic = defaultdict(str)\n",
    "for d in dat:\n",
    "    for _d in d['dialogue']:\n",
    "        dic.update(_d['data'].get('slots',{}))"
   ]
  },
  {
   "cell_type": "code",
   "execution_count": 6,
   "metadata": {},
   "outputs": [],
   "source": [
    "from collections import Counter\n",
    "dic = set([])\n",
    "for d in dat:\n",
    "    for _d in d['dialogue']:\n",
    "        slots = _d['data'].get('slots')\n",
    "        if not slots: continue\n",
    "        dic.update([slots.get('distance')])"
   ]
  },
  {
   "cell_type": "code",
   "execution_count": 7,
   "metadata": {},
   "outputs": [],
   "source": [
    "from collections import defaultdict\n",
    "dic = defaultdict(str)\n",
    "for d in dat:\n",
    "    for _d in d['dialogue']:\n",
    "        dic.update(_d.get('data',{}))"
   ]
  },
  {
   "cell_type": "code",
   "execution_count": 8,
   "metadata": {},
   "outputs": [],
   "source": [
    "requested_slots = list(dic['requested'].keys())"
   ]
  },
  {
   "cell_type": "code",
   "execution_count": 9,
   "metadata": {},
   "outputs": [],
   "source": [
    "#Kb"
   ]
  },
  {
   "cell_type": "code",
   "execution_count": 10,
   "metadata": {},
   "outputs": [
    {
     "data": {
      "text/plain": [
       "dict_keys(['kb', 'task', 'uuid'])"
      ]
     },
     "execution_count": 10,
     "metadata": {},
     "output_type": "execute_result"
    }
   ],
   "source": [
    "d['scenario'].keys()"
   ]
  },
  {
   "cell_type": "code",
   "execution_count": 11,
   "metadata": {},
   "outputs": [
    {
     "name": "stdout",
     "output_type": "stream",
     "text": [
      "{'time', 'event', 'party', 'saturday', 'room', 'friday', 'tuesday', 'wednesday', 'today', 'agenda', 'monday', 'poi', 'traffic_info', 'thursday', 'sunday', 'address', 'location', 'date', 'distance', 'poi_type'}\n"
     ]
    }
   ],
   "source": [
    "s=set([])\n",
    "for d in dat:\n",
    "    try:\n",
    "        keys=d['scenario']['kb']['column_names']\n",
    "    except:\n",
    "        continue\n",
    "    s.update(keys)\n",
    "print(s)"
   ]
  },
  {
   "cell_type": "code",
   "execution_count": 12,
   "metadata": {},
   "outputs": [
    {
     "name": "stdout",
     "output_type": "stream",
     "text": [
      "{'car collision nearby', 'moderate traffic', 'road block nearby', 'no traffic', 'heavy traffic'}\n"
     ]
    }
   ],
   "source": [
    "s=set([])\n",
    "for d in dat:\n",
    "    try:\n",
    "        keys=[t['traffic_info'] for t in d['scenario']['kb']['items'] ]\n",
    "    except:\n",
    "        continue\n",
    "    s.update(keys)\n",
    "print(s)"
   ]
  },
  {
   "cell_type": "code",
   "execution_count": 13,
   "metadata": {},
   "outputs": [
    {
     "name": "stdout",
     "output_type": "stream",
     "text": [
      "{'location information', 'calendar', 'weekly forecast'}\n"
     ]
    }
   ],
   "source": [
    "s=set([])\n",
    "for d in dat:\n",
    "    try:\n",
    "        keys=[d['scenario']['kb']['kb_title']]\n",
    "    except:\n",
    "        continue\n",
    "    s.update(keys)\n",
    "print(s)"
   ]
  },
  {
   "cell_type": "code",
   "execution_count": 14,
   "metadata": {},
   "outputs": [
    {
     "name": "stdout",
     "output_type": "stream",
     "text": [
      "{'weather', 'navigate', 'schedule'}\n"
     ]
    }
   ],
   "source": [
    "s=set([])\n",
    "for d in dat:\n",
    "    try:\n",
    "        keys=[d['scenario']['task']['intent']]\n",
    "    except:\n",
    "        print(d)\n",
    "        continue\n",
    "    s.update(keys)\n",
    "print(s)"
   ]
  },
  {
   "cell_type": "code",
   "execution_count": 15,
   "metadata": {},
   "outputs": [
    {
     "name": "stdout",
     "output_type": "stream",
     "text": [
      "defaultdict(<class 'set'>, {'location information': {'navigate'}, 'calendar': {'schedule'}, 'weekly forecast': {'weather'}})\n"
     ]
    }
   ],
   "source": [
    "s=defaultdict(set)\n",
    "for d in dat:\n",
    "    try:\n",
    "        s[d['scenario']['kb']['kb_title']].update([d['scenario']['task']['intent']])\n",
    "    except:\n",
    "        print(d)\n",
    "        continue\n",
    "print(s)"
   ]
  },
  {
   "cell_type": "code",
   "execution_count": 16,
   "metadata": {},
   "outputs": [
    {
     "name": "stdout",
     "output_type": "stream",
     "text": [
      "defaultdict(<class 'set'>, {'navigate': {'poi', 'traffic_info', 'address', 'distance', 'poi_type'}, 'schedule': {'time', 'event', 'party', 'room', 'date', 'agenda'}, 'weather': {'saturday', 'friday', 'tuesday', 'wednesday', 'today', 'monday', 'sunday', 'thursday', 'location'}})\n"
     ]
    }
   ],
   "source": [
    "s=defaultdict(set)\n",
    "for d in dat:\n",
    "    try:\n",
    "        s[d['scenario']['task']['intent']].update(d['scenario']['kb']['column_names'])\n",
    "    except Exception as e:\n",
    "        print(e)\n",
    "        continue\n",
    "print(s)"
   ]
  },
  {
   "cell_type": "code",
   "execution_count": 17,
   "metadata": {},
   "outputs": [
    {
     "name": "stdout",
     "output_type": "stream",
     "text": [
      "{'dialogue': [{'turn': 'driver', 'data': {'end_dialogue': False, 'utterance': 'check forecast for new york'}}, {'turn': 'assistant', 'data': {'end_dialogue': False, 'requested': {'weather_attribute': True, 'date': False, 'location': True}, 'slots': {'location': ' new york'}, 'utterance': 'The weather this week will be hail and rain on Thursday and Sunday, with the lowest temperature being 20F and the highest 90F, Monday will be the only hot day. '}}, {'turn': 'driver', 'data': {'end_dialogue': False, 'utterance': 'Will it be overcast on friday?'}}, {'turn': 'assistant', 'data': {'end_dialogue': False, 'requested': {'weather_attribute': True, 'date': True, 'location': False}, 'slots': {'weather_attribute': 'overcast', 'date': 'Friday'}, 'utterance': 'On Friday it will be cloudy on New York'}}, {'turn': 'driver', 'data': {'end_dialogue': False, 'utterance': 'Thank you!'}}, {'turn': 'assistant', 'data': {'end_dialogue': True, 'requested': {'weather_attribute': False, 'date': False, 'location': False}, 'slots': {}, 'utterance': \"You're welcome!\"}}], 'scenario': {'kb': {'items': [{'monday': 'stormy, low of 50F, high of 70F', 'tuesday': 'cloudy, low of 20F, high of 40F', 'friday': 'windy, low of 20F, high of 40F', 'wednesday': 'clear skies, low of 50F, high of 60F', 'thursday': 'stormy, low of 50F, high of 70F', 'sunday': 'hail, low of 30F, high of 50F', 'location': 'manhattan', 'saturday': 'snow, low of 60F, high of 70F', 'today': 'monday'}, {'monday': 'overcast, low of 50F, high of 70F', 'tuesday': 'stormy, low of 90F, high of 100F', 'friday': 'clear skies, low of 70F, high of 80F', 'wednesday': 'frost, low of 50F, high of 60F', 'thursday': 'snow, low of 80F, high of 90F', 'sunday': 'dry, low of 70F, high of 80F', 'location': 'camarillo', 'saturday': 'blizzard, low of 40F, high of 50F', 'today': 'monday'}, {'monday': 'dry, low of 50F, high of 70F', 'tuesday': 'warm, low of 80F, high of 90F', 'friday': 'cloudy, low of 70F, high of 80F', 'wednesday': 'hail, low of 20F, high of 40F', 'thursday': 'blizzard, low of 40F, high of 60F', 'sunday': 'stormy, low of 90F, high of 100F', 'location': 'menlo park', 'saturday': 'foggy, low of 50F, high of 60F', 'today': 'monday'}, {'monday': 'hot, low of 70F, high of 90F', 'tuesday': 'foggy, low of 70F, high of 90F', 'friday': 'cloudy, low of 70F, high of 90F', 'wednesday': 'dry, low of 40F, high of 50F', 'thursday': 'hail, low of 40F, high of 50F', 'sunday': 'rain, low of 20F, high of 30F', 'location': 'new york', 'saturday': 'clear skies, low of 70F, high of 90F', 'today': 'monday'}, {'monday': 'windy, low of 70F, high of 80F', 'tuesday': 'overcast, low of 40F, high of 50F', 'friday': 'hail, low of 60F, high of 70F', 'wednesday': 'hail, low of 90F, high of 100F', 'thursday': 'rain, low of 80F, high of 100F', 'sunday': 'frost, low of 20F, high of 30F', 'location': 'corona', 'saturday': 'warm, low of 60F, high of 80F', 'today': 'monday'}, {'monday': 'cloudy, low of 90F, high of 100F', 'tuesday': 'dry, low of 30F, high of 40F', 'friday': 'foggy, low of 20F, high of 30F', 'wednesday': 'stormy, low of 80F, high of 100F', 'thursday': 'snow, low of 20F, high of 30F', 'sunday': 'drizzle, low of 50F, high of 60F', 'location': 'seattle', 'saturday': 'drizzle, low of 40F, high of 60F', 'today': 'monday'}, {'monday': 'drizzle, low of 70F, high of 80F', 'tuesday': 'overcast, low of 40F, high of 60F', 'friday': 'foggy, low of 50F, high of 60F', 'wednesday': 'overcast, low of 60F, high of 80F', 'thursday': 'snow, low of 20F, high of 40F', 'sunday': 'cloudy, low of 30F, high of 40F', 'location': 'grand rapids', 'saturday': 'dry, low of 90F, high of 100F', 'today': 'monday'}], 'column_names': ['location', 'monday', 'tuesday', 'wednesday', 'thursday', 'friday', 'saturday', 'sunday', 'today'], 'kb_title': 'weekly forecast'}, 'task': {'intent': 'weather'}, 'uuid': '89cae425-6ff7-48b4-8b42-ec50b541dc63'}}\n",
      "\n",
      "\n",
      "\n",
      "\n",
      "\n",
      "defaultdict(<class 'set'>, {})\n"
     ]
    }
   ],
   "source": [
    "s=defaultdict(set)\n",
    "for d in dat:\n",
    "    try:\n",
    "        if d['scenario']['task']['intent'] == 'weather':\n",
    "            print(d)\n",
    "            print('\\n\\n\\n\\n')\n",
    "            break\n",
    "    except Exception as e:\n",
    "        print(e)\n",
    "        continue\n",
    "print(s)"
   ]
  },
  {
   "cell_type": "markdown",
   "metadata": {},
   "source": [
    "# KB results with beilef states"
   ]
  },
  {
   "cell_type": "code",
   "execution_count": 18,
   "metadata": {},
   "outputs": [
    {
     "data": {
      "text/plain": [
       "'str'"
      ]
     },
     "execution_count": 18,
     "metadata": {},
     "output_type": "execute_result"
    }
   ],
   "source": [
    "defaultdict(lambda: 'str')['hi']"
   ]
  },
  {
   "cell_type": "code",
   "execution_count": 19,
   "metadata": {},
   "outputs": [],
   "source": [
    "from difflib import SequenceMatcher\n",
    "\n",
    "def sim(a, b):\n",
    "    return SequenceMatcher(None, a.lower(), b.lower()).ratio()\n",
    "\n",
    "def close(a,b):\n",
    "    return sim(a,b)>=0.50"
   ]
  },
  {
   "cell_type": "code",
   "execution_count": 20,
   "metadata": {},
   "outputs": [],
   "source": [
    "import re\n",
    "import dateutil"
   ]
  },
  {
   "cell_type": "code",
   "execution_count": 145,
   "metadata": {},
   "outputs": [],
   "source": [
    "def num_op(s1,op,s2):\n",
    "    if isinstance(s1, (int, float)):\n",
    "        num1 = s1\n",
    "    else:\n",
    "        m1=re.search(r'([0-9]+)',s1)\n",
    "        if m1 is None:\n",
    "            try:\n",
    "                num1=dateutil.parser.parse(s1)\n",
    "            except ValueError:\n",
    "                return False,None\n",
    "        else:\n",
    "          num1=int(m1.group())\n",
    "           \n",
    "    if isinstance(s2,(int,float)):\n",
    "        num2 = s2\n",
    "    else:\n",
    "        m2=re.search(r'([0-9]+)',s2)\n",
    "        if m2 is None:\n",
    "            try:\n",
    "                num2=dateutil.parser.parse(s2)\n",
    "            except ValueError:\n",
    "                return False ,None     \n",
    "        else:\n",
    "          num2=int(m2.group())\n",
    "    try:\n",
    "        if op=='equal to':\n",
    "            return num1==num2,num1\n",
    "        if op=='greater than':\n",
    "            return num1>num2,num1\n",
    "        if op=='less than':\n",
    "            return num1<num2,num1\n",
    "    except TypeError:\n",
    "        return False,num1"
   ]
  },
  {
   "cell_type": "code",
   "execution_count": 22,
   "metadata": {},
   "outputs": [],
   "source": [
    "def kb_results(kb_data,kb_intent,columns,pred_kb_intent,belief_state,operation):\n",
    "    \"\"\"This function gets the kb_data, column names and intent for which the kb is received. \n",
    "    If intent identified by the bot is nto same as kb_intent no results will be returned.\n",
    "    \n",
    "    intents types: {'schedule', 'weather', 'navigate'}\n",
    "    \n",
    "    operation should have same keys as belief state with following possible values:\n",
    "    str, =, >, <, minimum, maximum  indexed from 0 to 5\n",
    "    Use None for all the values not numerical. If not None, operation would be performend\n",
    "    \"\"\"\n",
    "    #defaultdict(<class 'set'>, {'navigate': {'poi', 'distance', 'poi_type', 'traffic_info', 'address'},, 'weather': {'thursday', 'sunday', 'today', 'friday', 'wednesday', 'tuesday', 'saturday', 'location', 'monday'}})\n",
    "    if pred_kb_intent!=kb_intent:\n",
    "        return [],[]\n",
    "    if kb_data is None:\n",
    "        return [],[]\n",
    "    results = np.ones(len(kb_data))\n",
    "    confidence = np.ones(len(kb_data))\n",
    "    # column names possiblity: {'room', 'party', 'event', 'agenda', 'date', 'time'}  \n",
    "    # Note that date and time are immutable and non-comparable in current dialog, so they are treated as strings\n",
    "    col_types = defaultdict(lambda: 'str')\n",
    "    if any(k not in columns for k in belief_state.keys()):\n",
    "        return [],[]\n",
    "    for k in belief_state.keys():\n",
    "        min_idx = None\n",
    "        min_val = float('Inf')\n",
    "        max_idx = None\n",
    "        max_val = -float('Inf')\n",
    "        for i,items in enumerate(kb_data):\n",
    "            if results[i] == 0: continue\n",
    "            if col_types[k]=='str':\n",
    "                if not (belief_state.get(k) and items.get(k) and operation.get(k) is not None):\n",
    "                    results[i]=0\n",
    "                    confidence[i]=0\n",
    "                else:\n",
    "                    results[i]=0\n",
    "                    if operation[k]==0 and close(belief_state[k],items[k]):\n",
    "                        # Doing string comparison\n",
    "                        results[i]=1\n",
    "                        confidence[i] = confidence[i]*sim(belief_state.get(k),items.get(k))\n",
    "                    elif operation[k]==1:\n",
    "                        #Doing equal comparison extracting the first number\n",
    "                        if num_op(belief_state[k],'equal to',items[k])[0]:\n",
    "                            results[i]=1\n",
    "                    elif operation[k]==2:\n",
    "                        #Doing greater than comparison extracting the first number\n",
    "                        if num_op(belief_state[k],'less than',items[k])[0]:\n",
    "                            results[i]=1\n",
    "                    elif operation[k]==3:\n",
    "                        #Doing less than comparison extracting the first number\n",
    "                        if num_op(belief_state[k],'greater than',items[k])[0]:\n",
    "                            results[i]=1\n",
    "                    elif operation[k]==4:\n",
    "                        #Doing mimum comparison extracting the first number\n",
    "                        res,val = num_op(items[k],'less than',(min_val))\n",
    "                        if res:\n",
    "                            results[i]=1\n",
    "                            if min_idx is not None:\n",
    "                                results[min_idx] = 0\n",
    "                                confidence[min_idx] = 0\n",
    "                            min_val = val\n",
    "                            min_idx = i\n",
    "                    elif operation[k]==5:\n",
    "                        #Doing maximum comparison extracting the first number\n",
    "                        res,val = num_op(items[k],'greater than',(max_val))\n",
    "                        if res:\n",
    "                            results[i]=1\n",
    "                            if max_idx is not None:\n",
    "                                results[max_idx] = 0\n",
    "                                confidence[max_idx] = 0\n",
    "                            max_val = val\n",
    "                            max_idx = i\n",
    "    \n",
    "           \n",
    "    return np.array(results),np.array(confidence)"
   ]
  },
  {
   "cell_type": "code",
   "execution_count": 23,
   "metadata": {},
   "outputs": [],
   "source": [
    "kb_data = dat[22]['scenario']['kb']['items']\n",
    "kb_intent = dat[22]['scenario']['task']['intent']\n",
    "columns = dat[22]['scenario']['kb']['column_names']"
   ]
  },
  {
   "cell_type": "code",
   "execution_count": 24,
   "metadata": {},
   "outputs": [],
   "source": [
    "pred_kb_intent = kb_intent\n",
    "belief_state = {'traffic_info':'no traffic','distance':'6 miles'}\n",
    "operation = {'traffic_info':0,'distance':5}"
   ]
  },
  {
   "cell_type": "code",
   "execution_count": 25,
   "metadata": {},
   "outputs": [
    {
     "data": {
      "text/plain": [
       "(array([0., 0., 0., 0., 0., 0., 1., 0.]),\n",
       " array([0.        , 1.        , 0.        , 1.        , 0.69230769,\n",
       "        1.        , 0.69565217, 1.        ]))"
      ]
     },
     "execution_count": 25,
     "metadata": {},
     "output_type": "execute_result"
    }
   ],
   "source": [
    "kb_results(kb_data,kb_intent,columns,pred_kb_intent,belief_state,operation)"
   ]
  },
  {
   "cell_type": "code",
   "execution_count": 26,
   "metadata": {},
   "outputs": [
    {
     "data": {
      "text/plain": [
       "{'distance': '1 miles',\n",
       " 'traffic_info': 'no traffic',\n",
       " 'poi_type': 'chinese restaurant',\n",
       " 'address': '271 Springer Street',\n",
       " 'poi': 'Mandarin Roots'}"
      ]
     },
     "execution_count": 26,
     "metadata": {},
     "output_type": "execute_result"
    }
   ],
   "source": [
    "kb_data[5]"
   ]
  },
  {
   "cell_type": "markdown",
   "metadata": {},
   "source": [
    "# Preprocessing"
   ]
  },
  {
   "cell_type": "code",
   "execution_count": 27,
   "metadata": {},
   "outputs": [],
   "source": [
    "from nltk import word_tokenize\n",
    "from tqdm import tqdm\n",
    "from keras.utils import to_categorical\n",
    "from keras.preprocessing.sequence import pad_sequences"
   ]
  },
  {
   "cell_type": "code",
   "execution_count": 28,
   "metadata": {},
   "outputs": [],
   "source": [
    "def tokenize(t):\n",
    "    return word_tokenize(t)"
   ]
  },
  {
   "cell_type": "code",
   "execution_count": 29,
   "metadata": {},
   "outputs": [
    {
     "name": "stderr",
     "output_type": "stream",
     "text": [
      "100%|██████████| 2425/2425 [00:00<00:00, 100602.23it/s]\n"
     ]
    }
   ],
   "source": [
    "# collection of kb documents\n",
    "doc_kb=[]\n",
    "for d in tqdm(dat):\n",
    "    try:\n",
    "        for item in d['scenario']['kb']['items']:\n",
    "            [doc_kb.append(t)  for t in item.values()]\n",
    "    except TypeError:\n",
    "        continue"
   ]
  },
  {
   "cell_type": "code",
   "execution_count": 30,
   "metadata": {},
   "outputs": [
    {
     "name": "stderr",
     "output_type": "stream",
     "text": [
      "100%|██████████| 2425/2425 [00:00<00:00, 369646.29it/s]\n"
     ]
    }
   ],
   "source": [
    "doc_colnames=[]\n",
    "for d in tqdm(dat):\n",
    "    try:\n",
    "        item = d['scenario']['kb']['column_names']\n",
    "        [doc_colnames.append(t)  for t in item]\n",
    "    except TypeError:\n",
    "        continue\n",
    "    "
   ]
  },
  {
   "cell_type": "code",
   "execution_count": 31,
   "metadata": {},
   "outputs": [],
   "source": [
    "all_columns=list(set(doc_colnames))"
   ]
  },
  {
   "cell_type": "code",
   "execution_count": 32,
   "metadata": {},
   "outputs": [],
   "source": [
    "# Vocabulary for the databases\n",
    "from keras.preprocessing.text import Tokenizer\n",
    "tokenizer=Tokenizer(filters=\"\")"
   ]
  },
  {
   "cell_type": "code",
   "execution_count": 33,
   "metadata": {},
   "outputs": [],
   "source": [
    "tokenizer.fit_on_texts(doc_kb)"
   ]
  },
  {
   "cell_type": "code",
   "execution_count": 34,
   "metadata": {},
   "outputs": [],
   "source": [
    "tokenizer.fit_on_texts([\"<SOS>\",\"<EOS>\"])"
   ]
  },
  {
   "cell_type": "code",
   "execution_count": 35,
   "metadata": {},
   "outputs": [],
   "source": [
    "DB_VOCAB_LEN = len(tokenizer.word_index)+1"
   ]
  },
  {
   "cell_type": "markdown",
   "metadata": {},
   "source": [
    "### Also fitting in all the conversations and other things"
   ]
  },
  {
   "cell_type": "code",
   "execution_count": 36,
   "metadata": {},
   "outputs": [],
   "source": [
    "def all_dict(d):\n",
    "    texts=[]\n",
    "    texts.append(\" \".join(list(d.keys())))\n",
    "    for v in d.values():\n",
    "        if isinstance(v,str):\n",
    "            texts.append(v) \n",
    "        elif isinstance(v,list):\n",
    "            texts.append(\" \".join(all_texts(v)))\n",
    "        elif isinstance(v,dict):\n",
    "            texts.append(\" \".join(all_dict(v)))\n",
    "        else:\n",
    "            try:\n",
    "                texts.append(str(v))\n",
    "            except:\n",
    "                raise Exception(f'type of v is {type(v)}')\n",
    "    return texts\n",
    "\n",
    "def all_texts(data):\n",
    "    texts = []\n",
    "    for d in data:\n",
    "        if isinstance(d,dict):\n",
    "            texts.append(\" \".join(all_dict(d)))\n",
    "        elif isinstance(d,list):\n",
    "            texts.append(\" \".join(all_texts(d)))\n",
    "        elif isinstance(d,str):\n",
    "            texts.append(d)\n",
    "        else:\n",
    "            try:\n",
    "                texts.append(str(d))\n",
    "            except:\n",
    "                raise Exception(f'type of d is {type(d)}')\n",
    "    return texts"
   ]
  },
  {
   "cell_type": "code",
   "execution_count": 37,
   "metadata": {},
   "outputs": [],
   "source": [
    "tokenizer.fit_on_texts(all_texts(valid_dat))"
   ]
  },
  {
   "cell_type": "code",
   "execution_count": 38,
   "metadata": {},
   "outputs": [],
   "source": [
    "tokenizer.fit_on_texts(all_texts(dat))"
   ]
  },
  {
   "cell_type": "code",
   "execution_count": 39,
   "metadata": {},
   "outputs": [],
   "source": [
    "tokenizer.fit_on_texts(all_texts(test_dat))"
   ]
  },
  {
   "cell_type": "code",
   "execution_count": 40,
   "metadata": {},
   "outputs": [
    {
     "data": {
      "text/plain": [
       "625"
      ]
     },
     "execution_count": 40,
     "metadata": {},
     "output_type": "execute_result"
    }
   ],
   "source": [
    "tokenizer.word_index['ok']"
   ]
  },
  {
   "cell_type": "markdown",
   "metadata": {},
   "source": [
    "# Training the db model first"
   ]
  },
  {
   "cell_type": "code",
   "execution_count": 41,
   "metadata": {},
   "outputs": [],
   "source": [
    "all_columns_wi={a:i for i,a in enumerate(all_columns)}"
   ]
  },
  {
   "cell_type": "code",
   "execution_count": 42,
   "metadata": {},
   "outputs": [],
   "source": [
    "assert all_columns\n",
    "assert tokenizer"
   ]
  },
  {
   "cell_type": "code",
   "execution_count": 43,
   "metadata": {},
   "outputs": [],
   "source": [
    "MAX_QUERIES = 1\n",
    "NUM_COL = len(all_columns)\n",
    "CONV_VOCAB_LEN = len(tokenizer.word_index)+1\n",
    "THRESHOLD = 0.5\n",
    "MAX_DB_RESULTS = 5\n",
    "MAX_ENTITY_LENGTH = 10\n",
    "OPERATOR_LEN = 6\n",
    "NUM_INTENTS = 3\n",
    "EMBEDDING_SIZE=50"
   ]
  },
  {
   "cell_type": "code",
   "execution_count": 44,
   "metadata": {},
   "outputs": [],
   "source": [
    "result = np.zeros((5,6))"
   ]
  },
  {
   "cell_type": "code",
   "execution_count": 157,
   "metadata": {},
   "outputs": [],
   "source": [
    "# Converting rules based db to desired output first\n",
    "def results_to_vector(bs_output,pred_intent,operation,kb_data,kb_intent):\n",
    "    assert bs_output.shape == (NUM_COL,MAX_ENTITY_LENGTH,CONV_VOCAB_LEN)\n",
    "    assert operation.shape == (NUM_COL,OPERATOR_LEN)\n",
    "    pred_intent = np.argmax(pred_intent) if max(pred_intent)>THRESHOLD else None\n",
    "    kb_intent = np.argmax(kb_intent)\n",
    "    output=np.zeros((MAX_DB_RESULTS,NUM_COL,MAX_ENTITY_LENGTH,CONV_VOCAB_LEN))\n",
    "    if intent is None:\n",
    "        return output\n",
    "    q=bs_output\n",
    "    op = operation\n",
    "    op_conf =  np.max(op,axis=-1)\n",
    "    op_classes = np.argmax(op,axis=-1) \n",
    "    op_classes = [_q if _q_conf>THRESHOLD else None for _q,_q_conf in zip(op_classes,op_conf)]\n",
    "\n",
    "    q_ents = np.argmax(q,axis=-1)\n",
    "    q_confs = np.max(q,axis=-1)\n",
    "    q_mask = np.array(q_confs>THRESHOLD,dtype='float32')\n",
    "    q_ents = q_mask*q_ents\n",
    "    q_words = [\" \".join([tokenizer.index_word[_q] for _q in __q if _q!=0]) for __q in q_ents]\n",
    "    # Now that q_words and op_classes are known\n",
    "    bs={}\n",
    "    operations = {}\n",
    "    for j,ent in enumerate(q_words):\n",
    "        if ent is None or ent==\"\": continue\n",
    "        bs[all_columns[j]]=ent\n",
    "        operations[all_columns[j]] = op_classes[j]\n",
    "    result,confidence = kb_results(kb_data,kb_intent,columns,pred_intent,bs,operations)\n",
    "    result=np.array(result)\n",
    "    confidence=np.array(confidence)\n",
    "    result = result[np.argsort(confidence)[-1::-1]]\n",
    "    confidence = confidence[np.argsort(confidence)[-1::-1]]\n",
    "    final_result=[kb_data[_i] for _i,(c,r) in enumerate(zip(confidence,result)) if c>=THRESHOLD and r==1]\n",
    "    confidence=[confidence[_i] for _i,(c,r) in enumerate(zip(confidence,result)) if c>=THRESHOLD and r==1]\n",
    "    kb_result = np.zeros((MAX_DB_RESULTS,NUM_COL,MAX_ENTITY_LENGTH,CONV_VOCAB_LEN))\n",
    "    for j,r in enumerate(final_result):\n",
    "        if j==MAX_DB_RESULTS: break\n",
    "        for k,v in r.items():\n",
    "            kb_result[j,all_columns_wi[k]] = to_categorical(pad_sequences(tokenizer.texts_to_sequences([v]),maxlen=MAX_ENTITY_LENGTH)\\\n",
    "                                                             ,num_classes=CONV_VOCAB_LEN)*confidence[j]\n",
    "    output = kb_result\n",
    "    return output"
   ]
  },
  {
   "cell_type": "code",
   "execution_count": 120,
   "metadata": {},
   "outputs": [],
   "source": [
    "bs_output=np.zeros((NUM_COL,MAX_ENTITY_LENGTH,CONV_VOCAB_LEN))\n",
    "intent=np.array([1,0,0])\n",
    "operation = np.zeros((NUM_COL,OPERATOR_LEN))\n",
    "bs_output[19,0]=to_categorical(tokenizer.texts_to_sequences(['dish'])[0],num_classes=CONV_VOCAB_LEN)\n",
    "operation[19,0]=1.0\n",
    "kb_data = dat[0]['scenario']['kb']['items']"
   ]
  },
  {
   "cell_type": "code",
   "execution_count": 124,
   "metadata": {},
   "outputs": [
    {
     "data": {
      "text/plain": [
       "(5, 20, 10, 6183)"
      ]
     },
     "execution_count": 124,
     "metadata": {},
     "output_type": "execute_result"
    }
   ],
   "source": [
    "results_to_vector(bs_output,intent,operation,kb_data,kb_intent).shape"
   ]
  },
  {
   "cell_type": "code",
   "execution_count": 48,
   "metadata": {},
   "outputs": [],
   "source": [
    "from keras.layers import Input,Dense,LSTM,Embedding,TimeDistributed, RepeatVector, Concatenate,Reshape\n",
    "from keras.layers import Lambda\n",
    "from keras.models import Model"
   ]
  },
  {
   "cell_type": "code",
   "execution_count": 49,
   "metadata": {},
   "outputs": [],
   "source": [
    "import keras.backend as K\n",
    "import tensorflow as tf"
   ]
  },
  {
   "cell_type": "code",
   "execution_count": 65,
   "metadata": {},
   "outputs": [
    {
     "name": "stdout",
     "output_type": "stream",
     "text": [
      "(?, 1, 20, 50)\n"
     ]
    }
   ],
   "source": [
    "# model for db\n",
    "bs_input = Input(shape=(MAX_QUERIES,NUM_COL,MAX_ENTITY_LENGTH,CONV_VOCAB_LEN))\n",
    "intent_input = Input(shape=(MAX_QUERIES,NUM_INTENTS,))\n",
    "operation_input = Input(shape=(MAX_QUERIES,NUM_COL,OPERATOR_LEN))\n",
    "\n",
    "bs_proc = TimeDistributed(TimeDistributed(TimeDistributed(Dense(10,activation='sigmoid'))))(bs_input)\n",
    "LSTM_bs_emb = TimeDistributed(TimeDistributed(LSTM(50,return_sequences=False,return_state=False)))(bs_proc)\n",
    "rep_intent_input = TimeDistributed(RepeatVector(NUM_COL))(intent_input)\n",
    "print(LSTM_bs_emb.shape)\n",
    "all_steps = Concatenate(axis=-1)([LSTM_bs_emb,operation_input,rep_intent_input])\n",
    "all_steps = Lambda(lambda x: tf.reshape(x,shape=(-1,MAX_QUERIES,NUM_COL*(50+OPERATOR_LEN+NUM_INTENTS))))(all_steps)\n",
    "encoder_lstm = Dense(50,activation='relu')(all_steps)\n",
    "encoder_lstm = TimeDistributed(RepeatVector(MAX_DB_RESULTS))(encoder_lstm)\n",
    "\n",
    "decoder_lstm1 = TimeDistributed(LSTM(50,return_sequences=True))(encoder_lstm)\n",
    "\n",
    "decoder_lstm1 = Dense(NUM_COL*50,activation='relu')(decoder_lstm1)\n",
    "decoder_lstm1 = Lambda(lambda x: tf.reshape(x,shape=(-1,MAX_QUERIES,MAX_DB_RESULTS,NUM_COL,50)))(decoder_lstm1)\n",
    "\n",
    "\n",
    "decoder_lstm2 = TimeDistributed(Lambda(lambda x: K.tile(K.expand_dims(x,axis=-2),[1,1,1,MAX_ENTITY_LENGTH,1])))(decoder_lstm1)\n",
    "decoder_lstm3 = TimeDistributed(TimeDistributed(TimeDistributed(LSTM(10,return_sequences=True))))(decoder_lstm2)\n",
    "\n",
    "out = TimeDistributed(TimeDistributed(TimeDistributed(TimeDistributed(Dense(CONV_VOCAB_LEN,activation='softmax')))))(decoder_lstm3)\n",
    "db_model = Model(inputs=[bs_input,intent_input,operation_input],outputs=[out])"
   ]
  },
  {
   "cell_type": "code",
   "execution_count": 66,
   "metadata": {},
   "outputs": [
    {
     "name": "stdout",
     "output_type": "stream",
     "text": [
      "__________________________________________________________________________________________________\n",
      "Layer (type)                    Output Shape         Param #     Connected to                     \n",
      "==================================================================================================\n",
      "input_7 (InputLayer)            (None, 1, 20, 10, 61 0                                            \n",
      "__________________________________________________________________________________________________\n",
      "time_distributed_35 (TimeDistri (None, 1, 20, 10, 10 61840       input_7[0][0]                    \n",
      "__________________________________________________________________________________________________\n",
      "input_8 (InputLayer)            (None, 1, 3)         0                                            \n",
      "__________________________________________________________________________________________________\n",
      "time_distributed_37 (TimeDistri (None, 1, 20, 50)    12200       time_distributed_35[0][0]        \n",
      "__________________________________________________________________________________________________\n",
      "input_9 (InputLayer)            (None, 1, 20, 6)     0                                            \n",
      "__________________________________________________________________________________________________\n",
      "time_distributed_38 (TimeDistri (None, 1, 20, 3)     0           input_8[0][0]                    \n",
      "__________________________________________________________________________________________________\n",
      "concatenate_3 (Concatenate)     (None, 1, 20, 59)    0           time_distributed_37[0][0]        \n",
      "                                                                 input_9[0][0]                    \n",
      "                                                                 time_distributed_38[0][0]        \n",
      "__________________________________________________________________________________________________\n",
      "lambda_7 (Lambda)               (None, 1, 1180)      0           concatenate_3[0][0]              \n",
      "__________________________________________________________________________________________________\n",
      "dense_10 (Dense)                (None, 1, 50)        59050       lambda_7[0][0]                   \n",
      "__________________________________________________________________________________________________\n",
      "time_distributed_39 (TimeDistri (None, 1, 5, 50)     0           dense_10[0][0]                   \n",
      "__________________________________________________________________________________________________\n",
      "time_distributed_40 (TimeDistri (None, 1, 5, 50)     20200       time_distributed_39[0][0]        \n",
      "__________________________________________________________________________________________________\n",
      "dense_11 (Dense)                (None, 1, 5, 1000)   51000       time_distributed_40[0][0]        \n",
      "__________________________________________________________________________________________________\n",
      "lambda_8 (Lambda)               (None, 1, 5, 20, 50) 0           dense_11[0][0]                   \n",
      "__________________________________________________________________________________________________\n",
      "time_distributed_41 (TimeDistri (None, 1, 5, 20, 10, 0           lambda_8[0][0]                   \n",
      "__________________________________________________________________________________________________\n",
      "time_distributed_44 (TimeDistri (None, 1, 5, 20, 10, 2440        time_distributed_41[0][0]        \n",
      "__________________________________________________________________________________________________\n",
      "time_distributed_48 (TimeDistri (None, 1, 5, 20, 10, 68013       time_distributed_44[0][0]        \n",
      "==================================================================================================\n",
      "Total params: 274,743\n",
      "Trainable params: 274,743\n",
      "Non-trainable params: 0\n",
      "__________________________________________________________________________________________________\n"
     ]
    }
   ],
   "source": [
    "db_model.summary()"
   ]
  },
  {
   "cell_type": "code",
   "execution_count": 52,
   "metadata": {},
   "outputs": [],
   "source": [
    "db_model.compile(optimizer='adam',loss='categorical_crossentropy')"
   ]
  },
  {
   "cell_type": "markdown",
   "metadata": {},
   "source": [
    "### Preparing training inputs"
   ]
  },
  {
   "cell_type": "code",
   "execution_count": 53,
   "metadata": {},
   "outputs": [],
   "source": [
    "def softmax(w, t = 1.0):\n",
    "    e = np.exp(np.array(w) / t)\n",
    "    dist = e / np.sum(e)\n",
    "    return dist"
   ]
  },
  {
   "cell_type": "code",
   "execution_count": 54,
   "metadata": {
    "scrolled": true
   },
   "outputs": [
    {
     "data": {
      "text/plain": [
       "{'intent': 'navigate'}"
      ]
     },
     "execution_count": 54,
     "metadata": {},
     "output_type": "execute_result"
    }
   ],
   "source": [
    "dat[0]['scenario']['task']"
   ]
  },
  {
   "cell_type": "code",
   "execution_count": 55,
   "metadata": {},
   "outputs": [],
   "source": [
    "nav_cols=['distance','traffic_info','poi_type','address','poi']"
   ]
  },
  {
   "cell_type": "code",
   "execution_count": 125,
   "metadata": {},
   "outputs": [],
   "source": [
    "intents = ['schedule', 'weather', 'navigate']\n",
    "def input_generator(batch_size,data=dat):\n",
    "    batch_data1=[]\n",
    "    batch_data2=[]\n",
    "    batch_data3=[]\n",
    "    target=[]\n",
    "    random_dat = [data[i] for i in np.random.permutation(len(data))]\n",
    "    ij=0\n",
    "    while True:\n",
    "        ij+=1\n",
    "        for d in random_dat:\n",
    "            kb_intent = d['scenario']['task']['intent']\n",
    "            if kb_intent!='navigate': continue\n",
    "            kb_col_names = d['scenario']['kb']['column_names']\n",
    "            kb_data = d['scenario']['kb']['items']\n",
    "            true_vec_intent = np.zeros(NUM_INTENTS)\n",
    "            true_vec_intent[intents.index(kb_intent)]=1.0\n",
    "            pred_intent = np.array([0,0,1])#softmax(np.random.normal(size=NUM_INTENTS,loc=100,scale=5))\n",
    "            bs_input = np.zeros((NUM_COL,MAX_ENTITY_LENGTH,CONV_VOCAB_LEN))\n",
    "            operation = np.zeros((NUM_COL,OPERATOR_LEN))\n",
    "            num_cols_to_have = np.random.randint(NUM_COL)\n",
    "            num_ents_to_have = [np.random.randint(MAX_ENTITY_LENGTH) for _ in range(num_cols_to_have)]\n",
    "            for ii in range(num_cols_to_have):\n",
    "                col_idx = all_columns_wi[nav_cols[np.random.randint(5)]]\n",
    "                for j in range(num_ents_to_have[ii]):\n",
    "                    ix=(col_idx,MAX_ENTITY_LENGTH-j-1)\n",
    "                    bs_input[ix] = softmax(np.random.normal(size=CONV_VOCAB_LEN,loc=100,scale=5))\n",
    "                operation[col_idx] = softmax(np.random.normal(size=OPERATOR_LEN,loc=100,scale=5))\n",
    "\n",
    "            batch_data1.append([bs_input])\n",
    "            batch_data2.append([operation])\n",
    "            batch_data3.append([pred_intent])\n",
    "            target.append([results_to_vector(bs_input,pred_intent,operation,kb_data,true_vec_intent)])\n",
    "            \n",
    "            if len(batch_data1)==batch_size:\n",
    "                yield [np.array(batch_data1),np.array(batch_data3),np.array(batch_data2)],np.array(target)\n",
    "                batch_data1=[]\n",
    "                batch_data2=[]\n",
    "                batch_data3=[]\n",
    "                target=[]"
   ]
  },
  {
   "cell_type": "code",
   "execution_count": null,
   "metadata": {},
   "outputs": [],
   "source": [
    "to_categorical(pad_sequences(tokenizer.texts_to_sequences(['pizza restaurant']),maxlen=MAX_ENTITY_LENGTH)\\\n",
    "                                                             ,num_classes=CONV_VOCAB_LEN)*confidence[j]"
   ]
  },
  {
   "cell_type": "code",
   "execution_count": 144,
   "metadata": {},
   "outputs": [
    {
     "name": "stdout",
     "output_type": "stream",
     "text": [
      "> <ipython-input-119-b89b31a9a5a3>(43)results_to_vector()\n",
      "-> output = kb_result\n",
      "(Pdb) kb_result.shape\n",
      "(5, 20, 10, 6183)\n",
      "(Pdb) kb_result[0,:,-1,0]\n",
      "array([0., 0., 0., 0., 0., 0., 0., 0., 0., 0., 0., 0., 0., 0., 0., 0., 0.,\n",
      "       0., 0., 0.])\n",
      "(Pdb) kb_result[0,:,-2,0]\n",
      "array([0., 0., 0., 0., 0., 0., 0., 0., 0., 0., 0., 0., 0., 0., 0., 0., 0.,\n",
      "       0., 0., 0.])\n",
      "(Pdb) kb_result[0,:,-3,0]\n",
      "array([0., 0., 0., 0., 0., 0., 0., 0., 0., 0., 0., 1., 1., 0., 0., 0., 0.,\n",
      "       0., 1., 1.])\n",
      "(Pdb) r\n",
      "--Return--\n",
      "> <ipython-input-119-b89b31a9a5a3>(44)results_to_vector()->array([[[[0.,...., 0., 0.]]]])\n",
      "-> return output\n",
      "(Pdb) print(r)\n",
      "{'distance': '1 miles', 'traffic_info': 'moderate traffic', 'poi_type': 'pizza restaurant', 'address': '528 Anton Ct', 'poi': 'Pizza My Heart'}\n",
      "(Pdb) all_columns_wi\n",
      "{'time': 0, 'event': 1, 'party': 2, 'saturday': 3, 'room': 4, 'friday': 5, 'tuesday': 6, 'wednesday': 7, 'today': 8, 'agenda': 9, 'monday': 10, 'poi': 11, 'traffic_info': 12, 'thursday': 13, 'sunday': 14, 'address': 15, 'location': 16, 'date': 17, 'distance': 18, 'poi_type': 19}\n",
      "(Pdb) final_result[-1]\n",
      "{'distance': '1 miles', 'traffic_info': 'moderate traffic', 'poi_type': 'pizza restaurant', 'address': '915 Arbol Dr', 'poi': 'Pizza Chicago'}\n",
      "(Pdb) confidence[-1]\n",
      "1.0\n",
      "(Pdb) to_categorical(pad_sequences(tokenizer.texts_to_sequences(['pizza restaurant']),maxlen=MAX_ENTITY_LENGTH)\\                                                              ,num_classes=CONV_VOCAB_LEN)*confidence[j]\n",
      "*** SyntaxError: unexpected character after line continuation character\n",
      "(Pdb) to_categorical(pad_sequences(tokenizer.texts_to_sequences(['pizza restaurant']),maxlen=MAX_ENTITY_LENGTH),num_classes=CONV_VOCAB_LEN)*confidence[j]\n",
      "array([[[1., 0., 0., ..., 0., 0., 0.],\n",
      "        [1., 0., 0., ..., 0., 0., 0.],\n",
      "        [1., 0., 0., ..., 0., 0., 0.],\n",
      "        ...,\n",
      "        [1., 0., 0., ..., 0., 0., 0.],\n",
      "        [0., 0., 0., ..., 0., 0., 0.],\n",
      "        [0., 0., 0., ..., 0., 0., 0.]]], dtype=float32)\n",
      "(Pdb) to_categorical(pad_sequences(tokenizer.texts_to_sequences(['pizza restaurant']),maxlen=MAX_ENTITY_LENGTH),num_classes=CONV_VOCAB_LEN)*confidence[j].shape\n",
      "*** ValueError: operands could not be broadcast together with shapes (1,10,6183) (0,)\n",
      "(Pdb) to_categorical(pad_sequences(tokenizer.texts_to_sequences(['pizza restaurant']),maxlen=MAX_ENTITY_LENGTH),num_classes=CONV_VOCAB_LEN)\n",
      "array([[[1., 0., 0., ..., 0., 0., 0.],\n",
      "        [1., 0., 0., ..., 0., 0., 0.],\n",
      "        [1., 0., 0., ..., 0., 0., 0.],\n",
      "        ...,\n",
      "        [1., 0., 0., ..., 0., 0., 0.],\n",
      "        [0., 0., 0., ..., 0., 0., 0.],\n",
      "        [0., 0., 0., ..., 0., 0., 0.]]], dtype=float32)\n",
      "(Pdb) to_categorical(pad_sequences(tokenizer.texts_to_sequences(['pizza restaurant']),maxlen=MAX_ENTITY_LENGTH),num_classes=CONV_VOCAB_LEN).shape\n",
      "(1, 10, 6183)\n",
      "(Pdb) np.argmax(to_categorical(pad_sequences(tokenizer.texts_to_sequences(['pizza restaurant']),maxlen=MAX_ENTITY_LENGTH),num_classes=CONV_VOCAB_LEN),axis=-1)\n",
      "array([[ 0,  0,  0,  0,  0,  0,  0,  0, 99, 74]])\n",
      "(Pdb) exit\n"
     ]
    },
    {
     "ename": "BdbQuit",
     "evalue": "",
     "output_type": "error",
     "traceback": [
      "\u001b[0;31m---------------------------------------------------------------------------\u001b[0m",
      "\u001b[0;31mBdbQuit\u001b[0m                                   Traceback (most recent call last)",
      "\u001b[0;32m<ipython-input-144-8e876bdc3083>\u001b[0m in \u001b[0;36m<module>\u001b[0;34m()\u001b[0m\n\u001b[0;32m----> 1\u001b[0;31m \u001b[0ma1\u001b[0m\u001b[0;34m=\u001b[0m\u001b[0mnext\u001b[0m\u001b[0;34m(\u001b[0m\u001b[0minput_generator\u001b[0m\u001b[0;34m(\u001b[0m\u001b[0;36m1\u001b[0m\u001b[0;34m,\u001b[0m\u001b[0mdat\u001b[0m\u001b[0;34m)\u001b[0m\u001b[0;34m)\u001b[0m\u001b[0;34m\u001b[0m\u001b[0m\n\u001b[0m",
      "\u001b[0;32m<ipython-input-125-f73eba141040>\u001b[0m in \u001b[0;36minput_generator\u001b[0;34m(batch_size, data)\u001b[0m\n\u001b[1;32m     31\u001b[0m             \u001b[0mbatch_data2\u001b[0m\u001b[0;34m.\u001b[0m\u001b[0mappend\u001b[0m\u001b[0;34m(\u001b[0m\u001b[0;34m[\u001b[0m\u001b[0moperation\u001b[0m\u001b[0;34m]\u001b[0m\u001b[0;34m)\u001b[0m\u001b[0;34m\u001b[0m\u001b[0m\n\u001b[1;32m     32\u001b[0m             \u001b[0mbatch_data3\u001b[0m\u001b[0;34m.\u001b[0m\u001b[0mappend\u001b[0m\u001b[0;34m(\u001b[0m\u001b[0;34m[\u001b[0m\u001b[0mpred_intent\u001b[0m\u001b[0;34m]\u001b[0m\u001b[0;34m)\u001b[0m\u001b[0;34m\u001b[0m\u001b[0m\n\u001b[0;32m---> 33\u001b[0;31m             \u001b[0mtarget\u001b[0m\u001b[0;34m.\u001b[0m\u001b[0mappend\u001b[0m\u001b[0;34m(\u001b[0m\u001b[0;34m[\u001b[0m\u001b[0mresults_to_vector\u001b[0m\u001b[0;34m(\u001b[0m\u001b[0mbs_input\u001b[0m\u001b[0;34m,\u001b[0m\u001b[0mpred_intent\u001b[0m\u001b[0;34m,\u001b[0m\u001b[0moperation\u001b[0m\u001b[0;34m,\u001b[0m\u001b[0mkb_data\u001b[0m\u001b[0;34m,\u001b[0m\u001b[0mtrue_vec_intent\u001b[0m\u001b[0;34m)\u001b[0m\u001b[0;34m]\u001b[0m\u001b[0;34m)\u001b[0m\u001b[0;34m\u001b[0m\u001b[0m\n\u001b[0m\u001b[1;32m     34\u001b[0m \u001b[0;34m\u001b[0m\u001b[0m\n\u001b[1;32m     35\u001b[0m             \u001b[0;32mif\u001b[0m \u001b[0mlen\u001b[0m\u001b[0;34m(\u001b[0m\u001b[0mbatch_data1\u001b[0m\u001b[0;34m)\u001b[0m\u001b[0;34m==\u001b[0m\u001b[0mbatch_size\u001b[0m\u001b[0;34m:\u001b[0m\u001b[0;34m\u001b[0m\u001b[0m\n",
      "\u001b[0;32m<ipython-input-119-b89b31a9a5a3>\u001b[0m in \u001b[0;36mresults_to_vector\u001b[0;34m(bs_output, pred_intent, operation, kb_data, kb_intent)\u001b[0m\n\u001b[1;32m     42\u001b[0m         \u001b[0mpdb\u001b[0m\u001b[0;34m.\u001b[0m\u001b[0mset_trace\u001b[0m\u001b[0;34m(\u001b[0m\u001b[0;34m)\u001b[0m\u001b[0;34m\u001b[0m\u001b[0m\n\u001b[1;32m     43\u001b[0m     \u001b[0moutput\u001b[0m \u001b[0;34m=\u001b[0m \u001b[0mkb_result\u001b[0m\u001b[0;34m\u001b[0m\u001b[0m\n\u001b[0;32m---> 44\u001b[0;31m     \u001b[0;32mreturn\u001b[0m \u001b[0moutput\u001b[0m\u001b[0;34m\u001b[0m\u001b[0m\n\u001b[0m",
      "\u001b[0;32m/usr/lib/miniconda3/lib/python3.6/bdb.py\u001b[0m in \u001b[0;36mtrace_dispatch\u001b[0;34m(self, frame, event, arg)\u001b[0m\n\u001b[1;32m     53\u001b[0m             \u001b[0;32mreturn\u001b[0m \u001b[0mself\u001b[0m\u001b[0;34m.\u001b[0m\u001b[0mdispatch_call\u001b[0m\u001b[0;34m(\u001b[0m\u001b[0mframe\u001b[0m\u001b[0;34m,\u001b[0m \u001b[0marg\u001b[0m\u001b[0;34m)\u001b[0m\u001b[0;34m\u001b[0m\u001b[0m\n\u001b[1;32m     54\u001b[0m         \u001b[0;32mif\u001b[0m \u001b[0mevent\u001b[0m \u001b[0;34m==\u001b[0m \u001b[0;34m'return'\u001b[0m\u001b[0;34m:\u001b[0m\u001b[0;34m\u001b[0m\u001b[0m\n\u001b[0;32m---> 55\u001b[0;31m             \u001b[0;32mreturn\u001b[0m \u001b[0mself\u001b[0m\u001b[0;34m.\u001b[0m\u001b[0mdispatch_return\u001b[0m\u001b[0;34m(\u001b[0m\u001b[0mframe\u001b[0m\u001b[0;34m,\u001b[0m \u001b[0marg\u001b[0m\u001b[0;34m)\u001b[0m\u001b[0;34m\u001b[0m\u001b[0m\n\u001b[0m\u001b[1;32m     56\u001b[0m         \u001b[0;32mif\u001b[0m \u001b[0mevent\u001b[0m \u001b[0;34m==\u001b[0m \u001b[0;34m'exception'\u001b[0m\u001b[0;34m:\u001b[0m\u001b[0;34m\u001b[0m\u001b[0m\n\u001b[1;32m     57\u001b[0m             \u001b[0;32mreturn\u001b[0m \u001b[0mself\u001b[0m\u001b[0;34m.\u001b[0m\u001b[0mdispatch_exception\u001b[0m\u001b[0;34m(\u001b[0m\u001b[0mframe\u001b[0m\u001b[0;34m,\u001b[0m \u001b[0marg\u001b[0m\u001b[0;34m)\u001b[0m\u001b[0;34m\u001b[0m\u001b[0m\n",
      "\u001b[0;32m/usr/lib/miniconda3/lib/python3.6/bdb.py\u001b[0m in \u001b[0;36mdispatch_return\u001b[0;34m(self, frame, arg)\u001b[0m\n\u001b[1;32m     97\u001b[0m             \u001b[0;32mfinally\u001b[0m\u001b[0;34m:\u001b[0m\u001b[0;34m\u001b[0m\u001b[0m\n\u001b[1;32m     98\u001b[0m                 \u001b[0mself\u001b[0m\u001b[0;34m.\u001b[0m\u001b[0mframe_returning\u001b[0m \u001b[0;34m=\u001b[0m \u001b[0;32mNone\u001b[0m\u001b[0;34m\u001b[0m\u001b[0m\n\u001b[0;32m---> 99\u001b[0;31m             \u001b[0;32mif\u001b[0m \u001b[0mself\u001b[0m\u001b[0;34m.\u001b[0m\u001b[0mquitting\u001b[0m\u001b[0;34m:\u001b[0m \u001b[0;32mraise\u001b[0m \u001b[0mBdbQuit\u001b[0m\u001b[0;34m\u001b[0m\u001b[0m\n\u001b[0m\u001b[1;32m    100\u001b[0m             \u001b[0;31m# The user issued a 'next' or 'until' command.\u001b[0m\u001b[0;34m\u001b[0m\u001b[0;34m\u001b[0m\u001b[0m\n\u001b[1;32m    101\u001b[0m             \u001b[0;32mif\u001b[0m \u001b[0mself\u001b[0m\u001b[0;34m.\u001b[0m\u001b[0mstopframe\u001b[0m \u001b[0;32mis\u001b[0m \u001b[0mframe\u001b[0m \u001b[0;32mand\u001b[0m \u001b[0mself\u001b[0m\u001b[0;34m.\u001b[0m\u001b[0mstoplineno\u001b[0m \u001b[0;34m!=\u001b[0m \u001b[0;34m-\u001b[0m\u001b[0;36m1\u001b[0m\u001b[0;34m:\u001b[0m\u001b[0;34m\u001b[0m\u001b[0m\n",
      "\u001b[0;31mBdbQuit\u001b[0m: "
     ]
    }
   ],
   "source": [
    "a1=next(input_generator(1,dat))"
   ]
  },
  {
   "cell_type": "code",
   "execution_count": 58,
   "metadata": {},
   "outputs": [],
   "source": [
    "import psutil\n",
    "def memory_exhausted():\n",
    "    if memory_percent_available()<=10:\n",
    "        print(\"Memory Exhausted\")\n",
    "        exit()\n",
    "class memCall(keras.callbacks.Callback):\n",
    "    def on_batch_end(self, batch, logs={}):\n",
    "        memory_exhausted()\n",
    "        \n",
    "def memory_percent_available():\n",
    "    return psutil.virtual_memory().available/psutil.virtual_memory().total*100\n"
   ]
  },
  {
   "cell_type": "code",
   "execution_count": 59,
   "metadata": {},
   "outputs": [],
   "source": [
    "checkpoint=keras.callbacks.ModelCheckpoint('./tmp.h5',save_best_only=True)"
   ]
  },
  {
   "cell_type": "code",
   "execution_count": 60,
   "metadata": {},
   "outputs": [
    {
     "ename": "NameError",
     "evalue": "name 'asd' is not defined",
     "output_type": "error",
     "traceback": [
      "\u001b[0;31m---------------------------------------------------------------------------\u001b[0m",
      "\u001b[0;31mNameError\u001b[0m                                 Traceback (most recent call last)",
      "\u001b[0;32m<ipython-input-60-c85320d9ddb9>\u001b[0m in \u001b[0;36m<module>\u001b[0;34m()\u001b[0m\n\u001b[0;32m----> 1\u001b[0;31m \u001b[0masd\u001b[0m\u001b[0;34m\u001b[0m\u001b[0m\n\u001b[0m",
      "\u001b[0;31mNameError\u001b[0m: name 'asd' is not defined"
     ]
    }
   ],
   "source": [
    "asd"
   ]
  },
  {
   "cell_type": "code",
   "execution_count": null,
   "metadata": {
    "scrolled": true
   },
   "outputs": [],
   "source": [
    "batch_size=4\n",
    "db_model.fit_generator(input_generator(batch_size),validation_data=input_generator(batch_size,valid_dat),steps_per_epoch=100,epochs=10,validation_steps=50,callbacks=[memCall(),checkpoint])"
   ]
  },
  {
   "cell_type": "markdown",
   "metadata": {},
   "source": [
    "### Testing db_model"
   ]
  },
  {
   "cell_type": "code",
   "execution_count": 146,
   "metadata": {},
   "outputs": [],
   "source": [
    "db_model.load_weights('db_model_onlynav.h5')"
   ]
  },
  {
   "cell_type": "code",
   "execution_count": 147,
   "metadata": {
    "scrolled": true
   },
   "outputs": [
    {
     "ename": "RuntimeError",
     "evalue": "You must compile your model before using it.",
     "output_type": "error",
     "traceback": [
      "\u001b[0;31m---------------------------------------------------------------------------\u001b[0m",
      "\u001b[0;31mRuntimeError\u001b[0m                              Traceback (most recent call last)",
      "\u001b[0;32m<ipython-input-147-bbe20a319033>\u001b[0m in \u001b[0;36m<module>\u001b[0;34m()\u001b[0m\n\u001b[1;32m      1\u001b[0m \u001b[0mbatch_size\u001b[0m\u001b[0;34m=\u001b[0m\u001b[0;36m1\u001b[0m\u001b[0;34m\u001b[0m\u001b[0m\n\u001b[0;32m----> 2\u001b[0;31m \u001b[0mdb_model\u001b[0m\u001b[0;34m.\u001b[0m\u001b[0mevaluate_generator\u001b[0m\u001b[0;34m(\u001b[0m\u001b[0minput_generator\u001b[0m\u001b[0;34m(\u001b[0m\u001b[0mbatch_size\u001b[0m\u001b[0;34m,\u001b[0m\u001b[0mvalid_dat\u001b[0m\u001b[0;34m)\u001b[0m\u001b[0;34m,\u001b[0m\u001b[0msteps\u001b[0m\u001b[0;34m=\u001b[0m\u001b[0;36m100\u001b[0m\u001b[0;34m)\u001b[0m\u001b[0;34m\u001b[0m\u001b[0m\n\u001b[0m",
      "\u001b[0;32m/usr/lib/miniconda3/lib/python3.6/site-packages/keras/legacy/interfaces.py\u001b[0m in \u001b[0;36mwrapper\u001b[0;34m(*args, **kwargs)\u001b[0m\n\u001b[1;32m     89\u001b[0m                 warnings.warn('Update your `' + object_name +\n\u001b[1;32m     90\u001b[0m                               '` call to the Keras 2 API: ' + signature, stacklevel=2)\n\u001b[0;32m---> 91\u001b[0;31m             \u001b[0;32mreturn\u001b[0m \u001b[0mfunc\u001b[0m\u001b[0;34m(\u001b[0m\u001b[0;34m*\u001b[0m\u001b[0margs\u001b[0m\u001b[0;34m,\u001b[0m \u001b[0;34m**\u001b[0m\u001b[0mkwargs\u001b[0m\u001b[0;34m)\u001b[0m\u001b[0;34m\u001b[0m\u001b[0m\n\u001b[0m\u001b[1;32m     92\u001b[0m         \u001b[0mwrapper\u001b[0m\u001b[0;34m.\u001b[0m\u001b[0m_original_function\u001b[0m \u001b[0;34m=\u001b[0m \u001b[0mfunc\u001b[0m\u001b[0;34m\u001b[0m\u001b[0m\n\u001b[1;32m     93\u001b[0m         \u001b[0;32mreturn\u001b[0m \u001b[0mwrapper\u001b[0m\u001b[0;34m\u001b[0m\u001b[0m\n",
      "\u001b[0;32m/usr/lib/miniconda3/lib/python3.6/site-packages/keras/engine/training.py\u001b[0m in \u001b[0;36mevaluate_generator\u001b[0;34m(self, generator, steps, max_queue_size, workers, use_multiprocessing, verbose)\u001b[0m\n\u001b[1;32m   1467\u001b[0m             \u001b[0mworkers\u001b[0m\u001b[0;34m=\u001b[0m\u001b[0mworkers\u001b[0m\u001b[0;34m,\u001b[0m\u001b[0;34m\u001b[0m\u001b[0m\n\u001b[1;32m   1468\u001b[0m             \u001b[0muse_multiprocessing\u001b[0m\u001b[0;34m=\u001b[0m\u001b[0muse_multiprocessing\u001b[0m\u001b[0;34m,\u001b[0m\u001b[0;34m\u001b[0m\u001b[0m\n\u001b[0;32m-> 1469\u001b[0;31m             verbose=verbose)\n\u001b[0m\u001b[1;32m   1470\u001b[0m \u001b[0;34m\u001b[0m\u001b[0m\n\u001b[1;32m   1471\u001b[0m     \u001b[0;34m@\u001b[0m\u001b[0minterfaces\u001b[0m\u001b[0;34m.\u001b[0m\u001b[0mlegacy_generator_methods_support\u001b[0m\u001b[0;34m\u001b[0m\u001b[0m\n",
      "\u001b[0;32m/usr/lib/miniconda3/lib/python3.6/site-packages/keras/engine/training_generator.py\u001b[0m in \u001b[0;36mevaluate_generator\u001b[0;34m(model, generator, steps, max_queue_size, workers, use_multiprocessing, verbose)\u001b[0m\n\u001b[1;32m    269\u001b[0m                        verbose=0):\n\u001b[1;32m    270\u001b[0m     \u001b[0;34m\"\"\"See docstring for `Model.evaluate_generator`.\"\"\"\u001b[0m\u001b[0;34m\u001b[0m\u001b[0m\n\u001b[0;32m--> 271\u001b[0;31m     \u001b[0mmodel\u001b[0m\u001b[0;34m.\u001b[0m\u001b[0m_make_test_function\u001b[0m\u001b[0;34m(\u001b[0m\u001b[0;34m)\u001b[0m\u001b[0;34m\u001b[0m\u001b[0m\n\u001b[0m\u001b[1;32m    272\u001b[0m \u001b[0;34m\u001b[0m\u001b[0m\n\u001b[1;32m    273\u001b[0m     \u001b[0mstateful_metric_indices\u001b[0m \u001b[0;34m=\u001b[0m \u001b[0;34m[\u001b[0m\u001b[0;34m]\u001b[0m\u001b[0;34m\u001b[0m\u001b[0m\n",
      "\u001b[0;32m/usr/lib/miniconda3/lib/python3.6/site-packages/keras/engine/training.py\u001b[0m in \u001b[0;36m_make_test_function\u001b[0;34m(self)\u001b[0m\n\u001b[1;32m    510\u001b[0m     \u001b[0;32mdef\u001b[0m \u001b[0m_make_test_function\u001b[0m\u001b[0;34m(\u001b[0m\u001b[0mself\u001b[0m\u001b[0;34m)\u001b[0m\u001b[0;34m:\u001b[0m\u001b[0;34m\u001b[0m\u001b[0m\n\u001b[1;32m    511\u001b[0m         \u001b[0;32mif\u001b[0m \u001b[0;32mnot\u001b[0m \u001b[0mhasattr\u001b[0m\u001b[0;34m(\u001b[0m\u001b[0mself\u001b[0m\u001b[0;34m,\u001b[0m \u001b[0;34m'test_function'\u001b[0m\u001b[0;34m)\u001b[0m\u001b[0;34m:\u001b[0m\u001b[0;34m\u001b[0m\u001b[0m\n\u001b[0;32m--> 512\u001b[0;31m             \u001b[0;32mraise\u001b[0m \u001b[0mRuntimeError\u001b[0m\u001b[0;34m(\u001b[0m\u001b[0;34m'You must compile your model before using it.'\u001b[0m\u001b[0;34m)\u001b[0m\u001b[0;34m\u001b[0m\u001b[0m\n\u001b[0m\u001b[1;32m    513\u001b[0m         \u001b[0;32mif\u001b[0m \u001b[0mself\u001b[0m\u001b[0;34m.\u001b[0m\u001b[0mtest_function\u001b[0m \u001b[0;32mis\u001b[0m \u001b[0;32mNone\u001b[0m\u001b[0;34m:\u001b[0m\u001b[0;34m\u001b[0m\u001b[0m\n\u001b[1;32m    514\u001b[0m             inputs = (self._feed_inputs +\n",
      "\u001b[0;31mRuntimeError\u001b[0m: You must compile your model before using it."
     ]
    }
   ],
   "source": [
    "batch_size=1\n",
    "db_model.evaluate_generator(input_generator(batch_size,valid_dat),steps=100)"
   ]
  },
  {
   "cell_type": "code",
   "execution_count": 149,
   "metadata": {},
   "outputs": [],
   "source": [
    "kb_data = dat[22]['scenario']['kb']['items']\n",
    "kb_intent = dat[22]['scenario']['task']['intent']\n",
    "columns = dat[22]['scenario']['kb']['column_names']"
   ]
  },
  {
   "cell_type": "code",
   "execution_count": 150,
   "metadata": {},
   "outputs": [],
   "source": [
    "pred_kb_intent = kb_intent\n",
    "belief_state = {'traffic_info':'no traffic','distance':'6 miles'}\n",
    "operation = {'traffic_info':0,'distance':2}"
   ]
  },
  {
   "cell_type": "code",
   "execution_count": 151,
   "metadata": {},
   "outputs": [
    {
     "data": {
      "text/plain": [
       "{'traffic_info': 'no traffic', 'distance': '6 miles'}"
      ]
     },
     "execution_count": 151,
     "metadata": {},
     "output_type": "execute_result"
    }
   ],
   "source": [
    "belief_state"
   ]
  },
  {
   "cell_type": "code",
   "execution_count": 152,
   "metadata": {},
   "outputs": [
    {
     "data": {
      "text/plain": [
       "(array([0., 0., 0., 0., 0., 0., 1., 0.]),\n",
       " array([0.69230769, 1.        , 1.        , 1.        , 0.69230769,\n",
       "        1.        , 0.69565217, 1.        ]))"
      ]
     },
     "execution_count": 152,
     "metadata": {},
     "output_type": "execute_result"
    }
   ],
   "source": [
    "kb_results(kb_data,kb_intent,columns,pred_kb_intent,belief_state,operation)"
   ]
  },
  {
   "cell_type": "code",
   "execution_count": 153,
   "metadata": {
    "scrolled": true
   },
   "outputs": [
    {
     "data": {
      "text/plain": [
       "[[65, 20]]"
      ]
     },
     "execution_count": 153,
     "metadata": {},
     "output_type": "execute_result"
    }
   ],
   "source": [
    "tokenizer.texts_to_sequences(['no traffic'])"
   ]
  },
  {
   "cell_type": "code",
   "execution_count": 154,
   "metadata": {
    "scrolled": false
   },
   "outputs": [
    {
     "data": {
      "text/plain": [
       "{'time': 0,\n",
       " 'event': 1,\n",
       " 'party': 2,\n",
       " 'saturday': 3,\n",
       " 'room': 4,\n",
       " 'friday': 5,\n",
       " 'tuesday': 6,\n",
       " 'wednesday': 7,\n",
       " 'today': 8,\n",
       " 'agenda': 9,\n",
       " 'monday': 10,\n",
       " 'poi': 11,\n",
       " 'traffic_info': 12,\n",
       " 'thursday': 13,\n",
       " 'sunday': 14,\n",
       " 'address': 15,\n",
       " 'location': 16,\n",
       " 'date': 17,\n",
       " 'distance': 18,\n",
       " 'poi_type': 19}"
      ]
     },
     "execution_count": 154,
     "metadata": {},
     "output_type": "execute_result"
    }
   ],
   "source": [
    "all_columns_wi"
   ]
  },
  {
   "cell_type": "code",
   "execution_count": 155,
   "metadata": {},
   "outputs": [],
   "source": [
    "bs_output=np.zeros((NUM_COL,MAX_ENTITY_LENGTH,CONV_VOCAB_LEN))\n",
    "intent=np.array([0,0,1])\n",
    "operation = np.zeros((NUM_COL,OPERATOR_LEN))\n",
    "bs_output[18,0:2]=to_categorical(tokenizer.texts_to_sequences(['6 miles'])[0],num_classes=CONV_VOCAB_LEN)\n",
    "operation[18] = np.array([1,0,0,0,0,0])\n",
    "kb_data = dat[0]['scenario']['kb']['items']"
   ]
  },
  {
   "cell_type": "code",
   "execution_count": 158,
   "metadata": {},
   "outputs": [],
   "source": [
    "act=results_to_vector(bs_output,intent,operation,kb_data,intent)"
   ]
  },
  {
   "cell_type": "code",
   "execution_count": 159,
   "metadata": {},
   "outputs": [],
   "source": [
    "pred=db_model.predict([np.array([[bs_output]]),np.array([[intent]]),np.array([[operation]])])"
   ]
  },
  {
   "cell_type": "code",
   "execution_count": 160,
   "metadata": {},
   "outputs": [
    {
     "data": {
      "text/plain": [
       "(1, 1, 5, 20, 10, 6183)"
      ]
     },
     "execution_count": 160,
     "metadata": {},
     "output_type": "execute_result"
    }
   ],
   "source": [
    "pred.shape"
   ]
  },
  {
   "cell_type": "code",
   "execution_count": 161,
   "metadata": {},
   "outputs": [
    {
     "data": {
      "text/plain": [
       "(array([[   0,    0,    0,    0,    0,    0,    0,    0,    0,    0],\n",
       "        [   0,    0,    0,    0,    0,    0,    0,    0,    0,    0],\n",
       "        [   0,    0,    0,    0,    0,    0,    0,    0,    0,    0],\n",
       "        [   0,    0,    0,    0,    0,    0,    0,    0,    0,    0],\n",
       "        [   0,    0,    0,    0,    0,    0,    0,    0,    0,    0],\n",
       "        [   0,    0,    0,    0,    0,    0,    0,    0,    0,    0],\n",
       "        [   0,    0,    0,    0,    0,    0,    0,    0,    0,    0],\n",
       "        [   0,    0,    0,    0,    0,    0,    0,    0,    0,    0],\n",
       "        [   0,    0,    0,    0,    0,    0,    0,    0,    0,    0],\n",
       "        [   0,    0,    0,    0,    0,    0,    0,    0,    0,    0],\n",
       "        [   0,    0,    0,    0,    0,    0,    0,    0,    0,    0],\n",
       "        [   0,    0, 4747,  872, 1410, 1689, 5047, 5679, 3704, 1847],\n",
       "        [   0,    0,    0,    0,    0,    0,    0,    0,    0,    0],\n",
       "        [   0,    0,    0,    0,    0,    0,    0,    0,    0,    0],\n",
       "        [   0,    0,    0,    0,    0,    0,    0,    0,    0,    0],\n",
       "        [   0, 6003, 3426,  394, 5574, 3003, 4051, 5573, 2849, 1739],\n",
       "        [   0,    0,    0,    0,    0,    0,    0,    0,    0,    0],\n",
       "        [   0,    0,    0,    0,    0,    0,    0,    0,    0,    0],\n",
       "        [   0, 1661, 6131, 2477, 5815, 6165, 1380, 5454, 4223,  764],\n",
       "        [   0,    0,    0, 3037, 2118,  743, 4427, 1255, 2433, 3585]]),\n",
       " 0.0007987102)"
      ]
     },
     "execution_count": 161,
     "metadata": {},
     "output_type": "execute_result"
    }
   ],
   "source": [
    "np.argmax(a1[0][0][0][0],axis=-1),np.max(pred[0][0][0][0][0],axis=-1)"
   ]
  },
  {
   "cell_type": "code",
   "execution_count": 162,
   "metadata": {},
   "outputs": [
    {
     "data": {
      "text/plain": [
       "(1, 1, 20, 10, 6183)"
      ]
     },
     "execution_count": 162,
     "metadata": {},
     "output_type": "execute_result"
    }
   ],
   "source": [
    "a1[0][0].shape"
   ]
  },
  {
   "cell_type": "code",
   "execution_count": 163,
   "metadata": {},
   "outputs": [
    {
     "data": {
      "text/plain": [
       "array([8.08763218e-08, 5.51088474e-11, 2.68854439e-07, ...,\n",
       "       1.83106657e-10, 1.38158711e-08, 6.82881374e-09])"
      ]
     },
     "execution_count": 163,
     "metadata": {},
     "output_type": "execute_result"
    }
   ],
   "source": [
    "(a1[0][0][0,0,15,1,:])"
   ]
  },
  {
   "cell_type": "code",
   "execution_count": 164,
   "metadata": {},
   "outputs": [
    {
     "data": {
      "text/plain": [
       "15"
      ]
     },
     "execution_count": 164,
     "metadata": {},
     "output_type": "execute_result"
    }
   ],
   "source": [
    "np.argmax(a1[0][0][0,0,:,1,0])"
   ]
  },
  {
   "cell_type": "code",
   "execution_count": 167,
   "metadata": {
    "scrolled": true
   },
   "outputs": [
    {
     "data": {
      "text/plain": [
       "(array([[[7.98710214e-04, 1.43738440e-03, 2.34302250e-03, 3.48644261e-03,\n",
       "          4.79000201e-03, 6.15589088e-03, 7.49689434e-03, 8.75330716e-03,\n",
       "          9.89421736e-03, 1.09104132e-02],\n",
       "         [3.21941823e-01, 6.77449107e-01, 7.21007645e-01, 7.26638615e-01,\n",
       "          7.27395833e-01, 7.27498412e-01, 7.27512240e-01, 7.27513850e-01,\n",
       "          7.27514207e-01, 7.27514207e-01],\n",
       "         [3.21949780e-01, 6.77452683e-01, 7.21008420e-01, 7.26638973e-01,\n",
       "          7.27395833e-01, 7.27498412e-01, 7.27512240e-01, 7.27513850e-01,\n",
       "          7.27514207e-01, 7.27514207e-01],\n",
       "         [1.18322566e-03, 2.98894895e-03, 6.32884633e-03, 1.12655656e-02,\n",
       "          1.72437057e-02, 2.34422684e-02, 2.92242039e-02, 3.42860445e-02,\n",
       "          3.85718569e-02, 4.21464220e-02],\n",
       "         [6.54771517e-04, 9.79706063e-04, 1.36546022e-03, 1.79723895e-03,\n",
       "          2.25835200e-03, 2.73165689e-03, 3.20091308e-03, 3.65201221e-03,\n",
       "          4.07388946e-03, 4.45894198e-03],\n",
       "         [7.58287322e-04, 1.32799987e-03, 2.15319265e-03, 3.23585887e-03,\n",
       "          4.52872459e-03, 5.94720151e-03, 7.39469659e-03, 8.78734607e-03,\n",
       "          1.00681335e-02, 1.12086935e-02],\n",
       "         [8.15200794e-04, 1.53367431e-03, 2.64789234e-03, 4.18538274e-03,\n",
       "          6.07646070e-03, 8.16854276e-03, 1.02828387e-02, 1.22727063e-02,\n",
       "          1.40513135e-02, 1.55875757e-02],\n",
       "         [3.21962565e-01, 6.77454770e-01, 7.21008718e-01, 7.26638794e-01,\n",
       "          7.27395833e-01, 7.27498353e-01, 7.27512240e-01, 7.27513850e-01,\n",
       "          7.27514207e-01, 7.27514207e-01],\n",
       "         [6.54246716e-04, 1.00225536e-03, 1.45402667e-03, 2.01134756e-03,\n",
       "          2.66817352e-03, 3.41007533e-03, 4.21493407e-03, 5.05524455e-03,\n",
       "          5.90162678e-03, 6.72657508e-03],\n",
       "         [3.21922868e-01, 6.77446902e-01, 7.21007526e-01, 7.26638615e-01,\n",
       "          7.27395833e-01, 7.27498412e-01, 7.27512240e-01, 7.27513850e-01,\n",
       "          7.27514207e-01, 7.27514207e-01],\n",
       "         [7.66851299e-04, 1.34901237e-03, 2.18969630e-03, 3.29600321e-03,\n",
       "          4.63025365e-03, 6.11591665e-03, 7.65776029e-03, 9.16567072e-03,\n",
       "          1.05714239e-02, 1.18343672e-02],\n",
       "         [1.27635058e-03, 3.42466892e-03, 7.58607360e-03, 1.39803393e-02,\n",
       "          2.19743382e-02, 3.04177497e-02, 3.82866375e-02, 4.50345315e-02,\n",
       "          5.05445339e-02, 5.49331196e-02],\n",
       "         [1.28777337e-03, 3.49375140e-03, 7.88745657e-03, 1.48799326e-02,\n",
       "          2.39312444e-02, 3.37914862e-02, 4.32239138e-02, 5.14815077e-02,\n",
       "          5.83226085e-02, 6.38153628e-02],\n",
       "         [1.00032461e-03, 2.10159412e-03, 3.69177642e-03, 5.55571495e-03,\n",
       "          7.43670063e-03, 9.17463377e-03, 1.07190767e-02, 1.20819835e-02,\n",
       "          1.32961879e-02, 1.43946754e-02],\n",
       "         [6.78382406e-04, 1.10247207e-03, 1.69718219e-03, 2.46510725e-03,\n",
       "          3.38435662e-03, 4.41165408e-03, 5.49161294e-03, 6.56827353e-03,\n",
       "          7.59452209e-03, 8.53706803e-03],\n",
       "         [8.72503908e-04, 1.72716612e-03, 3.06395325e-03, 4.85927332e-03,\n",
       "          6.96229516e-03, 9.17173550e-03, 1.13192489e-02, 1.33040976e-02,\n",
       "          1.50852641e-02, 1.66591723e-02],\n",
       "         [9.91464942e-04, 2.21020845e-03, 4.39666910e-03, 7.77864736e-03,\n",
       "          1.23031754e-02, 1.76141541e-02, 2.32075490e-02, 2.86278296e-02,\n",
       "          3.35763544e-02, 3.79165746e-02],\n",
       "         [3.21853399e-01, 6.77434981e-01, 7.21005797e-01, 7.26638615e-01,\n",
       "          7.27395833e-01, 7.27498353e-01, 7.27512240e-01, 7.27513850e-01,\n",
       "          7.27514207e-01, 7.27514207e-01],\n",
       "         [6.17009529e-04, 8.97502818e-04, 1.24327978e-03, 1.64874410e-03,\n",
       "          2.10289471e-03, 2.59066978e-03, 3.09490156e-03, 3.59844766e-03,\n",
       "          4.08605207e-03, 4.54561925e-03],\n",
       "         [1.13523402e-03, 2.79112044e-03, 5.87634463e-03, 1.06822159e-02,\n",
       "          1.70710664e-02, 2.44815089e-02, 3.21501531e-02, 3.93952616e-02,\n",
       "          4.57900316e-02, 5.11753671e-02]],\n",
       " \n",
       "        [[9.40891856e-04, 1.93419761e-03, 3.47662042e-03, 5.52534824e-03,\n",
       "          7.90819246e-03, 1.04070734e-02, 1.28411194e-02, 1.50998002e-02,\n",
       "          1.71346739e-02, 1.89372767e-02],\n",
       "         [3.22051704e-01, 6.77475035e-01, 7.21012115e-01, 7.26639330e-01,\n",
       "          7.27395892e-01, 7.27498412e-01, 7.27512240e-01, 7.27513850e-01,\n",
       "          7.27514207e-01, 7.27514207e-01],\n",
       "         [3.22051585e-01, 6.77475214e-01, 7.21012056e-01, 7.26639330e-01,\n",
       "          7.27395892e-01, 7.27498412e-01, 7.27512240e-01, 7.27513850e-01,\n",
       "          7.27514207e-01, 7.27514207e-01],\n",
       "         [1.54403283e-03, 4.77802195e-03, 1.13767758e-02, 2.11511701e-02,\n",
       "          3.23099606e-02, 4.29823399e-02, 5.22002578e-02, 5.97698055e-02,\n",
       "          6.58539981e-02, 7.07101375e-02],\n",
       "         [7.27455365e-04, 1.18292379e-03, 1.75923144e-03, 2.43763928e-03,\n",
       "          3.19290790e-03, 3.99569981e-03, 4.81521990e-03, 5.62229380e-03,\n",
       "          6.39226986e-03, 7.10692536e-03],\n",
       "         [8.79486906e-04, 1.75599253e-03, 3.16579756e-03, 5.14624268e-03,\n",
       "          7.59493560e-03, 1.03037274e-02, 1.30419433e-02, 1.56288967e-02,\n",
       "          1.79612543e-02, 2.00028084e-02],\n",
       "         [9.61928221e-04, 2.07996112e-03, 3.98608111e-03, 6.74427534e-03,\n",
       "          1.01470416e-02, 1.37963006e-02, 1.73020791e-02, 2.04190649e-02,\n",
       "          2.30581202e-02, 2.52319053e-02],\n",
       "         [3.22053432e-01, 6.77475572e-01, 7.21012115e-01, 7.26639330e-01,\n",
       "          7.27395892e-01, 7.27498412e-01, 7.27512240e-01, 7.27513850e-01,\n",
       "          7.27514207e-01, 7.27514207e-01],\n",
       "         [7.34215020e-04, 1.24162238e-03, 1.94866722e-03, 2.86044204e-03,\n",
       "          3.96031188e-03, 5.21021243e-03, 6.55450765e-03, 7.92843383e-03,\n",
       "          9.26899165e-03, 1.05245095e-02],\n",
       "         [3.22048098e-01, 6.77474380e-01, 7.21011996e-01, 7.26639330e-01,\n",
       "          7.27395892e-01, 7.27498412e-01, 7.27512240e-01, 7.27513850e-01,\n",
       "          7.27514207e-01, 7.27514207e-01],\n",
       "         [8.89652176e-04, 1.77278637e-03, 3.16910562e-03, 5.11270156e-03,\n",
       "          7.51733407e-03, 1.01975314e-02, 1.29344948e-02, 1.55420965e-02,\n",
       "          1.79003738e-02, 1.99554209e-02],\n",
       "         [1.68908469e-03, 5.58265857e-03, 1.39094051e-02, 2.66768374e-02,\n",
       "          4.14883830e-02, 5.55147231e-02, 6.72289431e-02, 7.64002129e-02,\n",
       "          8.33990425e-02, 8.87148753e-02],\n",
       "         [1.72394491e-03, 5.83783025e-03, 1.49524352e-02, 2.93678157e-02,\n",
       "          4.64844555e-02, 6.29601404e-02, 7.68389180e-02, 8.76988918e-02,\n",
       "          9.59073156e-02, 1.02037147e-01],\n",
       "         [1.23039284e-03, 2.97192391e-03, 5.60686085e-03, 8.68549012e-03,\n",
       "          1.17598753e-02, 1.46190515e-02, 1.72243714e-02, 1.95988249e-02,\n",
       "          2.17705183e-02, 2.37568729e-02],\n",
       "         [7.61058356e-04, 1.35771092e-03, 2.22433871e-03, 3.34419217e-03,\n",
       "          4.65332251e-03, 6.05878280e-03, 7.46392924e-03, 8.78926180e-03,\n",
       "          9.98253655e-03, 1.10188080e-02],\n",
       "         [1.05280289e-03, 2.43272376e-03, 4.78811469e-03, 8.02338682e-03,\n",
       "          1.17302565e-02, 1.54609084e-02, 1.89204868e-02, 2.19820142e-02,\n",
       "          2.46250965e-02, 2.68794373e-02],\n",
       "         [1.24464079e-03, 3.35485721e-03, 7.63254426e-03, 1.45732351e-02,\n",
       "          2.37223487e-02, 3.38757709e-02, 4.37851846e-02, 5.26456907e-02,\n",
       "          6.01469241e-02, 6.63033500e-02],\n",
       "         [3.22037876e-01, 6.77472651e-01, 7.21011698e-01, 7.26639271e-01,\n",
       "          7.27395892e-01, 7.27498412e-01, 7.27512240e-01, 7.27513850e-01,\n",
       "          7.27514207e-01, 7.27514207e-01],\n",
       "         [6.76538213e-04, 1.06759334e-03, 1.58564898e-03, 2.22898554e-03,\n",
       "          2.98267673e-03, 3.82084656e-03, 4.71092481e-03, 5.61865792e-03,\n",
       "          6.51260139e-03, 7.36722630e-03],\n",
       "         [1.44234067e-03, 4.25259862e-03, 1.00452630e-02, 1.93740577e-02,\n",
       "          3.15311365e-02, 4.48347628e-02, 5.75412735e-02, 6.85578510e-02,\n",
       "          7.75404349e-02, 8.46206173e-02]],\n",
       " \n",
       "        [[9.64972423e-04, 2.02370575e-03, 3.68843949e-03, 5.91268111e-03,\n",
       "          8.50240048e-03, 1.12136072e-02, 1.38470950e-02, 1.62837002e-02,\n",
       "          1.84729509e-02, 2.04075035e-02],\n",
       "         [3.22055221e-01, 6.77475810e-01, 7.21012354e-01, 7.26639330e-01,\n",
       "          7.27395892e-01, 7.27498412e-01, 7.27512240e-01, 7.27513850e-01,\n",
       "          7.27514207e-01, 7.27514207e-01],\n",
       "         [3.22054952e-01, 6.77475810e-01, 7.21012294e-01, 7.26639509e-01,\n",
       "          7.27395892e-01, 7.27498412e-01, 7.27512240e-01, 7.27513850e-01,\n",
       "          7.27514207e-01, 7.27514207e-01],\n",
       "         [1.60775159e-03, 5.12196729e-03, 1.23715922e-02, 2.30663810e-02,\n",
       "          3.51283401e-02, 4.65066507e-02, 5.62161505e-02, 6.41115457e-02,\n",
       "          7.04068467e-02, 7.53972158e-02],\n",
       "         [7.39327399e-04, 1.21743639e-03, 1.82799564e-03, 2.55184039e-03,\n",
       "          3.36229312e-03, 4.22771601e-03, 5.11438586e-03, 5.99000370e-03,\n",
       "          6.82706758e-03, 7.60516012e-03],\n",
       "         [8.99895444e-04, 1.83303293e-03, 3.35657666e-03, 5.51551767e-03,\n",
       "          8.19326844e-03, 1.11523187e-02, 1.41328843e-02, 1.69359483e-02,\n",
       "          1.94515660e-02, 2.16443129e-02],\n",
       "         [9.86632658e-04, 2.17807596e-03, 4.23585903e-03, 7.22823106e-03,\n",
       "          1.09115401e-02, 1.48334485e-02, 1.85661744e-02, 2.18540002e-02,\n",
       "          2.46146638e-02, 2.68727988e-02],\n",
       "         [3.22056353e-01, 6.77476227e-01, 7.21012533e-01, 7.26639509e-01,\n",
       "          7.27395892e-01, 7.27498412e-01, 7.27512240e-01, 7.27513850e-01,\n",
       "          7.27514207e-01, 7.27514207e-01],\n",
       "         [7.47586542e-04, 1.28341035e-03, 2.03707675e-03, 3.01355007e-03,\n",
       "          4.19295160e-03, 5.53144235e-03, 6.96614711e-03, 8.42513703e-03,\n",
       "          9.83988494e-03, 1.11556863e-02],\n",
       "         [3.22052449e-01, 6.77475452e-01, 7.21012115e-01, 7.26639330e-01,\n",
       "          7.27395892e-01, 7.27498412e-01, 7.27512240e-01, 7.27513850e-01,\n",
       "          7.27514207e-01, 7.27514207e-01],\n",
       "         [9.10122122e-04, 1.84768008e-03, 3.34878685e-03, 5.45243965e-03,\n",
       "          8.05989467e-03, 1.09608062e-02, 1.39108393e-02, 1.67065524e-02,\n",
       "          1.92208085e-02, 2.14000195e-02],\n",
       "         [1.76210376e-03, 5.99900354e-03, 1.51592996e-02, 2.91304607e-02,\n",
       "          4.50890809e-02, 5.99242859e-02, 7.21126944e-02, 8.15377310e-02,\n",
       "          8.86684433e-02, 9.40523893e-02],\n",
       "         [1.80197344e-03, 6.29813131e-03, 1.63728241e-02, 3.21967863e-02,\n",
       "          5.06531000e-02, 6.80483431e-02, 8.24225694e-02, 9.34964940e-02,\n",
       "          1.01767816e-01, 1.07889958e-01],\n",
       "         [1.26916927e-03, 3.12649505e-03, 5.95180178e-03, 9.24939383e-03,\n",
       "          1.25394054e-02, 1.56036252e-02, 1.84026826e-02, 2.09560022e-02,\n",
       "          2.32735705e-02, 2.53678616e-02],\n",
       "         [7.74455082e-04, 1.39984116e-03, 2.31065857e-03, 3.48433061e-03,\n",
       "          4.84778965e-03, 6.29954878e-03, 7.73780607e-03, 9.08189546e-03,\n",
       "          1.02814054e-02, 1.13146482e-02],\n",
       "         [1.08363747e-03, 2.56149564e-03, 5.11077885e-03, 8.61228351e-03,\n",
       "          1.25984019e-02, 1.65748298e-02, 2.02296097e-02, 2.34372299e-02,\n",
       "          2.61852201e-02, 2.85119135e-02],\n",
       "         [1.28898292e-03, 3.57338879e-03, 8.27742834e-03, 1.59339849e-02,\n",
       "          2.59626452e-02, 3.69634591e-02, 4.75578196e-02, 5.69104888e-02,\n",
       "          6.47403970e-02, 7.11071417e-02],\n",
       "         [3.22044879e-01, 6.77474082e-01, 7.21011996e-01, 7.26639330e-01,\n",
       "          7.27395892e-01, 7.27498412e-01, 7.27512240e-01, 7.27513850e-01,\n",
       "          7.27514207e-01, 7.27514207e-01],\n",
       "         [6.86315761e-04, 1.09672092e-03, 1.64618879e-03, 2.33406527e-03,\n",
       "          3.14477878e-03, 4.05029906e-03, 5.01493132e-03, 6.00095699e-03,\n",
       "          6.97368057e-03, 7.90489744e-03],\n",
       "         [1.49487297e-03, 4.52281116e-03, 1.08436523e-02, 2.10426655e-02,\n",
       "          3.42514664e-02, 4.85402718e-02, 6.20014220e-02, 7.35184252e-02,\n",
       "          8.28045830e-02, 9.00614709e-02]],\n",
       " \n",
       "        [[9.68339969e-04, 2.03633960e-03, 3.71849257e-03, 5.96774463e-03,\n",
       "          8.58685933e-03, 1.13281040e-02, 1.39896581e-02, 1.64511707e-02,\n",
       "          1.86619107e-02, 2.06147451e-02],\n",
       "         [3.22055548e-01, 6.77475870e-01, 7.21012354e-01, 7.26639330e-01,\n",
       "          7.27395892e-01, 7.27498412e-01, 7.27512240e-01, 7.27513850e-01,\n",
       "          7.27514207e-01, 7.27514207e-01],\n",
       "         [3.22055370e-01, 6.77476048e-01, 7.21012354e-01, 7.26639509e-01,\n",
       "          7.27395892e-01, 7.27498412e-01, 7.27512240e-01, 7.27513850e-01,\n",
       "          7.27514207e-01, 7.27514207e-01],\n",
       "         [1.61671743e-03, 5.17096510e-03, 1.25136664e-02, 2.33388189e-02,\n",
       "          3.55267823e-02, 4.70019504e-02, 5.67777865e-02, 6.47164807e-02,\n",
       "          7.10393190e-02, 7.60467872e-02],\n",
       "         [7.40978343e-04, 1.22226356e-03, 1.83765404e-03, 2.56792968e-03,\n",
       "          3.38621321e-03, 4.26053675e-03, 5.15676104e-03, 6.04213262e-03,\n",
       "          6.88873976e-03, 7.67584704e-03],\n",
       "         [9.02747386e-04, 1.84390903e-03, 3.38369049e-03, 5.56817744e-03,\n",
       "          8.27865768e-03, 1.12733003e-02, 1.42881153e-02, 1.71215050e-02,\n",
       "          1.96626652e-02, 2.18763221e-02],\n",
       "         [9.90084722e-04, 2.19192030e-03, 4.27129725e-03, 7.29698082e-03,\n",
       "          1.10199377e-02, 1.49799827e-02, 1.87440906e-02, 2.20552739e-02,\n",
       "          2.48324014e-02, 2.71018688e-02],\n",
       "         [3.22056651e-01, 6.77476287e-01, 7.21012533e-01, 7.26639509e-01,\n",
       "          7.27395892e-01, 7.27498412e-01, 7.27512240e-01, 7.27513850e-01,\n",
       "          7.27514207e-01, 7.27514207e-01],\n",
       "         [7.49452796e-04, 1.28927943e-03, 2.04953155e-03, 3.03513417e-03,\n",
       "          4.22571553e-03, 5.57659473e-03, 7.02385418e-03, 8.49456247e-03,\n",
       "          9.91943665e-03, 1.12433806e-02],\n",
       "         [3.22052866e-01, 6.77475572e-01, 7.21012175e-01, 7.26639330e-01,\n",
       "          7.27395892e-01, 7.27498412e-01, 7.27512240e-01, 7.27513850e-01,\n",
       "          7.27514207e-01, 7.27514207e-01],\n",
       "         [9.12977790e-04, 1.85821974e-03, 3.37421033e-03, 5.50062675e-03,\n",
       "          8.13685823e-03, 1.10689364e-02, 1.40488753e-02, 1.68707948e-02,\n",
       "          1.94066502e-02, 2.16029137e-02],\n",
       "         [1.77238125e-03, 6.05834182e-03, 1.53378407e-02, 2.94791646e-02,\n",
       "          4.55965959e-02, 6.05410896e-02, 7.27916956e-02, 8.22491273e-02,\n",
       "          8.93958583e-02, 9.47876647e-02],\n",
       "         [1.81297481e-03, 6.36391761e-03, 1.65762100e-02, 3.25992480e-02,\n",
       "          5.12404628e-02, 6.87588453e-02, 8.31968710e-02, 9.42966267e-02,\n",
       "          1.02574028e-01, 1.08693391e-01],\n",
       "         [1.27458735e-03, 3.14825657e-03, 6.00045873e-03, 9.32894554e-03,\n",
       "          1.26493927e-02, 1.57425646e-02, 1.85688790e-02, 2.11438295e-02,\n",
       "          2.34788135e-02, 2.55865548e-02],\n",
       "         [7.76315166e-04, 1.40570290e-03, 2.32264004e-03, 3.50368000e-03,\n",
       "          4.87444736e-03, 6.33228291e-03, 7.77472183e-03, 9.12100170e-03,\n",
       "          1.03210062e-02, 1.13535421e-02],\n",
       "         [1.08795590e-03, 2.57970253e-03, 5.15652774e-03, 8.69561546e-03,\n",
       "          1.27207264e-02, 1.67310201e-02, 2.04123128e-02, 2.36394182e-02,\n",
       "          2.64010895e-02, 2.87369620e-02],\n",
       "         [1.29521661e-03, 3.60450940e-03, 8.36978853e-03, 1.61287617e-02,\n",
       "          2.62819100e-02, 3.74009386e-02, 4.80893478e-02, 5.75084351e-02,\n",
       "          6.53819889e-02, 7.17761442e-02],\n",
       "         [3.22045743e-01, 6.77474260e-01, 7.21011996e-01, 7.26639330e-01,\n",
       "          7.27395892e-01, 7.27498412e-01, 7.27512240e-01, 7.27513850e-01,\n",
       "          7.27514207e-01, 7.27514207e-01],\n",
       "         [6.87676889e-04, 1.10080175e-03, 1.65471062e-03, 2.34890799e-03,\n",
       "          3.16773052e-03, 4.08283900e-03, 5.05808741e-03, 6.05526147e-03,\n",
       "          7.03920424e-03, 7.98132084e-03],\n",
       "         [1.50222785e-03, 4.56107827e-03, 1.09572429e-02, 2.12799143e-02,\n",
       "          3.46366316e-02, 4.90619652e-02, 6.26257658e-02, 7.42095038e-02,\n",
       "          8.35353136e-02, 9.08147171e-02]],\n",
       " \n",
       "        [[9.68797773e-04, 2.03805952e-03, 3.72258737e-03, 5.97524876e-03,\n",
       "          8.59836768e-03, 1.13437055e-02, 1.40090827e-02, 1.64739769e-02,\n",
       "          1.86876412e-02, 2.06429511e-02],\n",
       "         [3.22055638e-01, 6.77475929e-01, 7.21012354e-01, 7.26639330e-01,\n",
       "          7.27395892e-01, 7.27498412e-01, 7.27512240e-01, 7.27513850e-01,\n",
       "          7.27514207e-01, 7.27514207e-01],\n",
       "         [3.22055370e-01, 6.77476048e-01, 7.21012354e-01, 7.26639509e-01,\n",
       "          7.27395892e-01, 7.27498412e-01, 7.27512240e-01, 7.27513850e-01,\n",
       "          7.27514207e-01, 7.27514207e-01],\n",
       "         [1.61793735e-03, 5.17764362e-03, 1.25330333e-02, 2.33759359e-02,\n",
       "          3.55810151e-02, 4.70693111e-02, 5.68541586e-02, 6.47986531e-02,\n",
       "          7.11251795e-02, 7.61349350e-02],\n",
       "         [7.41202675e-04, 1.22292002e-03, 1.83896779e-03, 2.57011922e-03,\n",
       "          3.38946935e-03, 4.26500617e-03, 5.16253198e-03, 6.04923349e-03,\n",
       "          6.89713983e-03, 7.68547691e-03],\n",
       "         [9.03135107e-04, 1.84538984e-03, 3.38738598e-03, 5.57535933e-03,\n",
       "          8.29029921e-03, 1.12897949e-02, 1.43092750e-02, 1.71467923e-02,\n",
       "          1.96914282e-02, 2.19079275e-02],\n",
       "         [9.90553992e-04, 2.19380460e-03, 4.27612429e-03, 7.30634574e-03,\n",
       "          1.10347001e-02, 1.49999317e-02, 1.87682956e-02, 2.20826529e-02,\n",
       "          2.48620007e-02, 2.71329936e-02],\n",
       "         [3.22056651e-01, 6.77476287e-01, 7.21012533e-01, 7.26639509e-01,\n",
       "          7.27395892e-01, 7.27498412e-01, 7.27512240e-01, 7.27513850e-01,\n",
       "          7.27514207e-01, 7.27514207e-01],\n",
       "         [7.49706291e-04, 1.29007758e-03, 2.05122656e-03, 3.03807133e-03,\n",
       "          4.23017377e-03, 5.58273820e-03, 7.03170244e-03, 8.50399863e-03,\n",
       "          9.93024465e-03, 1.12552922e-02],\n",
       "         [3.22053015e-01, 6.77475572e-01, 7.21012175e-01, 7.26639330e-01,\n",
       "          7.27395892e-01, 7.27498412e-01, 7.27512240e-01, 7.27513850e-01,\n",
       "          7.27514207e-01, 7.27514207e-01],\n",
       "         [9.13366035e-04, 1.85965421e-03, 3.37767345e-03, 5.50719211e-03,\n",
       "          8.14734772e-03, 1.10836681e-02, 1.40676750e-02, 1.68931633e-02,\n",
       "          1.94319431e-02, 2.16305181e-02],\n",
       "         [1.77377905e-03, 6.06642757e-03, 1.53621752e-02, 2.95266453e-02,\n",
       "          4.56656516e-02, 6.06249049e-02, 7.28839114e-02, 8.23456272e-02,\n",
       "          8.94945264e-02, 9.48873982e-02],\n",
       "         [1.81447226e-03, 6.37288904e-03, 1.66039467e-02, 3.26540656e-02,\n",
       "          5.13203926e-02, 6.88554198e-02, 8.33020210e-02, 9.44051743e-02,\n",
       "          1.02683321e-01, 1.08802348e-01],\n",
       "         [1.27532380e-03, 3.15121817e-03, 6.00708043e-03, 9.33977589e-03,\n",
       "          1.26643674e-02, 1.57614741e-02, 1.85914934e-02, 2.11693738e-02,\n",
       "          2.35067215e-02, 2.56162900e-02],\n",
       "         [7.76567729e-04, 1.40649918e-03, 2.32426682e-03, 3.50630516e-03,\n",
       "          4.87805996e-03, 6.33671507e-03, 7.77971325e-03, 9.12628230e-03,\n",
       "          1.03263464e-02, 1.13587771e-02],\n",
       "         [1.08854333e-03, 2.58218101e-03, 5.16275829e-03, 8.70696269e-03,\n",
       "          1.27373692e-02, 1.67522561e-02, 2.04371288e-02, 2.36668605e-02,\n",
       "          2.64303889e-02, 2.87674852e-02],\n",
       "         [1.29606458e-03, 3.60875088e-03, 8.38238839e-03, 1.61553249e-02,\n",
       "          2.63254270e-02, 3.74605209e-02, 4.81616370e-02, 5.75897507e-02,\n",
       "          6.54691830e-02, 7.18670115e-02],\n",
       "         [3.22045863e-01, 6.77474260e-01, 7.21011996e-01, 7.26639330e-01,\n",
       "          7.27395892e-01, 7.27498412e-01, 7.27512240e-01, 7.27513850e-01,\n",
       "          7.27514207e-01, 7.27514207e-01],\n",
       "         [6.87861757e-04, 1.10135635e-03, 1.65586977e-03, 2.35092780e-03,\n",
       "          3.17085511e-03, 4.08726931e-03, 5.06396452e-03, 6.06265804e-03,\n",
       "          7.04812817e-03, 7.99172930e-03],\n",
       "         [1.50322798e-03, 4.56628948e-03, 1.09727243e-02, 2.13122386e-02,\n",
       "          3.46891060e-02, 4.91329692e-02, 6.27106354e-02, 7.43033811e-02,\n",
       "          8.36345106e-02, 9.09169689e-02]]], dtype=float32),\n",
       " array([[7.98710214e-04, 1.43738440e-03, 2.34302250e-03, 3.48644261e-03,\n",
       "         4.79000201e-03, 6.15589088e-03, 7.49689434e-03, 8.75330716e-03,\n",
       "         9.89421736e-03, 1.09104132e-02],\n",
       "        [3.21941823e-01, 6.77449107e-01, 7.21007645e-01, 7.26638615e-01,\n",
       "         7.27395833e-01, 7.27498412e-01, 7.27512240e-01, 7.27513850e-01,\n",
       "         7.27514207e-01, 7.27514207e-01],\n",
       "        [3.21949780e-01, 6.77452683e-01, 7.21008420e-01, 7.26638973e-01,\n",
       "         7.27395833e-01, 7.27498412e-01, 7.27512240e-01, 7.27513850e-01,\n",
       "         7.27514207e-01, 7.27514207e-01],\n",
       "        [1.18322566e-03, 2.98894895e-03, 6.32884633e-03, 1.12655656e-02,\n",
       "         1.72437057e-02, 2.34422684e-02, 2.92242039e-02, 3.42860445e-02,\n",
       "         3.85718569e-02, 4.21464220e-02],\n",
       "        [6.54771517e-04, 9.79706063e-04, 1.36546022e-03, 1.79723895e-03,\n",
       "         2.25835200e-03, 2.73165689e-03, 3.20091308e-03, 3.65201221e-03,\n",
       "         4.07388946e-03, 4.45894198e-03],\n",
       "        [7.58287322e-04, 1.32799987e-03, 2.15319265e-03, 3.23585887e-03,\n",
       "         4.52872459e-03, 5.94720151e-03, 7.39469659e-03, 8.78734607e-03,\n",
       "         1.00681335e-02, 1.12086935e-02],\n",
       "        [8.15200794e-04, 1.53367431e-03, 2.64789234e-03, 4.18538274e-03,\n",
       "         6.07646070e-03, 8.16854276e-03, 1.02828387e-02, 1.22727063e-02,\n",
       "         1.40513135e-02, 1.55875757e-02],\n",
       "        [3.21962565e-01, 6.77454770e-01, 7.21008718e-01, 7.26638794e-01,\n",
       "         7.27395833e-01, 7.27498353e-01, 7.27512240e-01, 7.27513850e-01,\n",
       "         7.27514207e-01, 7.27514207e-01],\n",
       "        [6.54246716e-04, 1.00225536e-03, 1.45402667e-03, 2.01134756e-03,\n",
       "         2.66817352e-03, 3.41007533e-03, 4.21493407e-03, 5.05524455e-03,\n",
       "         5.90162678e-03, 6.72657508e-03],\n",
       "        [3.21922868e-01, 6.77446902e-01, 7.21007526e-01, 7.26638615e-01,\n",
       "         7.27395833e-01, 7.27498412e-01, 7.27512240e-01, 7.27513850e-01,\n",
       "         7.27514207e-01, 7.27514207e-01],\n",
       "        [7.66851299e-04, 1.34901237e-03, 2.18969630e-03, 3.29600321e-03,\n",
       "         4.63025365e-03, 6.11591665e-03, 7.65776029e-03, 9.16567072e-03,\n",
       "         1.05714239e-02, 1.18343672e-02],\n",
       "        [1.27635058e-03, 3.42466892e-03, 7.58607360e-03, 1.39803393e-02,\n",
       "         2.19743382e-02, 3.04177497e-02, 3.82866375e-02, 4.50345315e-02,\n",
       "         5.05445339e-02, 5.49331196e-02],\n",
       "        [1.28777337e-03, 3.49375140e-03, 7.88745657e-03, 1.48799326e-02,\n",
       "         2.39312444e-02, 3.37914862e-02, 4.32239138e-02, 5.14815077e-02,\n",
       "         5.83226085e-02, 6.38153628e-02],\n",
       "        [1.00032461e-03, 2.10159412e-03, 3.69177642e-03, 5.55571495e-03,\n",
       "         7.43670063e-03, 9.17463377e-03, 1.07190767e-02, 1.20819835e-02,\n",
       "         1.32961879e-02, 1.43946754e-02],\n",
       "        [6.78382406e-04, 1.10247207e-03, 1.69718219e-03, 2.46510725e-03,\n",
       "         3.38435662e-03, 4.41165408e-03, 5.49161294e-03, 6.56827353e-03,\n",
       "         7.59452209e-03, 8.53706803e-03],\n",
       "        [8.72503908e-04, 1.72716612e-03, 3.06395325e-03, 4.85927332e-03,\n",
       "         6.96229516e-03, 9.17173550e-03, 1.13192489e-02, 1.33040976e-02,\n",
       "         1.50852641e-02, 1.66591723e-02],\n",
       "        [9.91464942e-04, 2.21020845e-03, 4.39666910e-03, 7.77864736e-03,\n",
       "         1.23031754e-02, 1.76141541e-02, 2.32075490e-02, 2.86278296e-02,\n",
       "         3.35763544e-02, 3.79165746e-02],\n",
       "        [3.21853399e-01, 6.77434981e-01, 7.21005797e-01, 7.26638615e-01,\n",
       "         7.27395833e-01, 7.27498353e-01, 7.27512240e-01, 7.27513850e-01,\n",
       "         7.27514207e-01, 7.27514207e-01],\n",
       "        [6.17009529e-04, 8.97502818e-04, 1.24327978e-03, 1.64874410e-03,\n",
       "         2.10289471e-03, 2.59066978e-03, 3.09490156e-03, 3.59844766e-03,\n",
       "         4.08605207e-03, 4.54561925e-03],\n",
       "        [1.13523402e-03, 2.79112044e-03, 5.87634463e-03, 1.06822159e-02,\n",
       "         1.70710664e-02, 2.44815089e-02, 3.21501531e-02, 3.93952616e-02,\n",
       "         4.57900316e-02, 5.11753671e-02]], dtype=float32))"
      ]
     },
     "execution_count": 167,
     "metadata": {},
     "output_type": "execute_result"
    }
   ],
   "source": [
    "np.max(pred[0][0],axis=-1),np.max(pred[0][0][0],axis=-1)"
   ]
  },
  {
   "cell_type": "code",
   "execution_count": 166,
   "metadata": {},
   "outputs": [
    {
     "data": {
      "text/plain": [
       "array([[  0,   0,   0,   0,   0,   0,   0,   0,   0,   0],\n",
       "       [  0,   0,   0,   0,   0,   0,   0,   0,   0,   0],\n",
       "       [  0,   0,   0,   0,   0,   0,   0,   0,   0,   0],\n",
       "       [  0,   0,   0,   0,   0,   0,   0,   0,   0,   0],\n",
       "       [  0,   0,   0,   0,   0,   0,   0,   0,   0,   0],\n",
       "       [  0,   0,   0,   0,   0,   0,   0,   0,   0,   0],\n",
       "       [  0,   0,   0,   0,   0,   0,   0,   0,   0,   0],\n",
       "       [  0,   0,   0,   0,   0,   0,   0,   0,   0,   0],\n",
       "       [  0,   0,   0,   0,   0,   0,   0,   0,   0,   0],\n",
       "       [  0,   0,   0,   0,   0,   0,   0,   0,   0,   0],\n",
       "       [  0,   0,   0,   0,   0,   0,   0,   0,   0,   0],\n",
       "       [  0,   0,   0,   0,   0,   0,   0,   0, 305, 111],\n",
       "       [  0,   0,   0,   0,   0,   0,   0, 130, 131,  76],\n",
       "       [  0,   0,   0,   0,   0,   0,   0,   0,   0,   0],\n",
       "       [  0,   0,   0,   0,   0,   0,   0,   0,   0,   0],\n",
       "       [  0,   0,   0,   0,   0,   0,   0, 334, 153,  68],\n",
       "       [  0,   0,   0,   0,   0,   0,   0,   0,   0,   0],\n",
       "       [  0,   0,   0,   0,   0,   0,   0,   0,   0,   0],\n",
       "       [  0,   0,   0,   0,   0,   0,   0,   0,  89,  12],\n",
       "       [  0,   0,   0,   0,   0,   0,   0,   0, 111, 104]])"
      ]
     },
     "execution_count": 166,
     "metadata": {},
     "output_type": "execute_result"
    }
   ],
   "source": [
    "np.argmax(act[0],axis=-1)"
   ]
  },
  {
   "cell_type": "code",
   "execution_count": 88,
   "metadata": {},
   "outputs": [],
   "source": [
    "a1=next(input_generator(1,dat))"
   ]
  },
  {
   "cell_type": "code",
   "execution_count": 81,
   "metadata": {},
   "outputs": [
    {
     "data": {
      "text/plain": [
       "(0, 0.0)"
      ]
     },
     "execution_count": 81,
     "metadata": {},
     "output_type": "execute_result"
    }
   ],
   "source": [
    "np.argmax(a1[0][0][0][0][0][-1]),np.max(a1[0][0][0][0][0][-1])"
   ]
  },
  {
   "cell_type": "markdown",
   "metadata": {},
   "source": [
    "## Memory usage"
   ]
  },
  {
   "cell_type": "code",
   "execution_count": null,
   "metadata": {},
   "outputs": [],
   "source": [
    "from pympler import muppy\n",
    "from pympler import summary\n",
    "all_objects = muppy.get_objects()\n",
    "sum1 = summary.summarize(all_objects)\n"
   ]
  },
  {
   "cell_type": "code",
   "execution_count": null,
   "metadata": {},
   "outputs": [],
   "source": [
    "def get_model_memory_usage(batch_size, model):\n",
    "    import numpy as np\n",
    "    from keras import backend as K\n",
    "\n",
    "    shapes_mem_count = 0\n",
    "    for l in model.layers:\n",
    "        single_layer_mem = 1\n",
    "        for s in l.output_shape:\n",
    "            if s is None:\n",
    "                continue\n",
    "            single_layer_mem *= s\n",
    "        shapes_mem_count += single_layer_mem\n",
    "\n",
    "    trainable_count = np.sum([K.count_params(p) for p in set(model.trainable_weights)])\n",
    "    non_trainable_count = np.sum([K.count_params(p) for p in set(model.non_trainable_weights)])\n",
    "\n",
    "    total_memory = 4.0*batch_size*(shapes_mem_count + trainable_count + non_trainable_count)\n",
    "    gbytes = np.round(total_memory / (1024.0 ** 3), 3)\n",
    "    return gbytes"
   ]
  },
  {
   "cell_type": "code",
   "execution_count": null,
   "metadata": {},
   "outputs": [],
   "source": [
    "get_model_memory_usage(16,db_model)"
   ]
  },
  {
   "cell_type": "code",
   "execution_count": null,
   "metadata": {
    "scrolled": true
   },
   "outputs": [],
   "source": [
    "from pympler import asizeof"
   ]
  },
  {
   "cell_type": "code",
   "execution_count": null,
   "metadata": {},
   "outputs": [],
   "source": [
    "asizeof.asizeof(a1)/1024/1024"
   ]
  },
  {
   "cell_type": "code",
   "execution_count": null,
   "metadata": {},
   "outputs": [],
   "source": [
    "asizeof.asizeof(db_model.layers[0])/1024/1024"
   ]
  },
  {
   "cell_type": "markdown",
   "metadata": {},
   "source": [
    "# Defining the complete model now"
   ]
  },
  {
   "cell_type": "markdown",
   "metadata": {},
   "source": [
    "This model would receive the belief states and give out the sentences in the coeherent form"
   ]
  },
  {
   "cell_type": "code",
   "execution_count": null,
   "metadata": {},
   "outputs": [],
   "source": [
    "MAX_SEQ_LEN = 30\n",
    "LATENT_DIM = 50\n",
    "CONV_VOCAB_LEN = 30000"
   ]
  },
  {
   "cell_type": "code",
   "execution_count": null,
   "metadata": {},
   "outputs": [],
   "source": [
    "from keras.engine.network import Network\n",
    "def get_model(db_m):\n",
    "    frozen_db_m = Network(db_m.input,db_m.output,name='frozen_db_model')\n",
    "    \n",
    "    text_in = Input(shape=(MAX_SEQ_LEN,EMBEDDING_SIZE))\n",
    "    text_tok_in = Input(shape=(MAX_SEQ_LEN,CONV_VOCAB_LEN))\n",
    "    emb_state_in_h = Input(shape=(LATENT_DIM,))\n",
    "    emb_state_in_c = Input(shape=(LATENT_DIM,))\n",
    "    \n",
    "    encoding,emb_state_out_h,emb_state_out_c = LSTM(LATENT_DIM,\\\n",
    "                                                    return_state=True)(text_in,\\\n",
    "                                            initial_state=[emb_state_in_h,emb_state_in_c])\n",
    "    \n",
    "    \n",
    "    \n",
    "    db_decoder_1 = Lambda(lambda x: K.tile(K.expand_dims(x,axis=-2),[1,MAX_QUERIES,1]))(encoding)\n",
    "    db_decoder_2 = LSTM(NUM_COL*LATENT_DIM,return_sequences=True)(db_decoder_1)\n",
    "    db_decoder_2 = Lambda(lambda x: tf.reshape(x,[-1,MAX_QUERIES,NUM_COL,LATENT_DIM]))(db_decoder_2)\n",
    "    \n",
    "    db_decoder_3 = Lambda(lambda x: K.tile(K.expand_dims(x,axis=-2),[1,1,1,MAX_ENTITY_LENGTH,1]))(db_decoder_2)\n",
    "    db = TimeDistributed(TimeDistributed(LSTM(LATENT_DIM,return_sequences=True)))(db_decoder_3)\n",
    "    bs_out = Dense(MAX_SEQ_LEN,activation='softmax')(db)\n",
    "    text_tok_in_reshape = Lambda(lambda x: tf.reshape(x,[-1,1,1,1,MAX_SEQ_LEN,CONV_VOCAB_LEN]))(text_tok_in)\n",
    "    \n",
    "    bs_out = Lambda(lambda x: K.expand_dims(x))(bs_out)\n",
    "    print(bs_out.shape,text_tok_in_reshape.shape)\n",
    "    bs_out = Lambda(lambda x: tf.reduce_sum(x[0]*x[1],axis=-2))([bs_out,text_tok_in])\n",
    "    print(bs_out.shape)\n",
    "    op_out = Dense(LATENT_DIM,activation='relu')(db_decoder_2)\n",
    "    op_out = Dense(OPERATOR_LEN,activation='softmax')(op_out)\n",
    "    print(op_out.shape)\n",
    "    intent_out = Dense(LATENT_DIM,activation='relu')(encoding)\n",
    "    intent_out = Dense(NUM_INTENTS,activation='softmax')(intent_out)\n",
    "    intent_out = RepeatVector(MAX_QUERIES)(intent_out)\n",
    "    model_bs = Model(inputs=[text_in,emb_state_in_h,emb_state_in_c,text_tok_in],outputs=[bs_out,intent_out,op_out])\n",
    "    # DECODER\n",
    "    print(bs_out,intent_out,op_out)\n",
    "    decoder_input_db = frozen_db_m([bs_out,intent_out,op_out])\n",
    "    other_bs_input = encoding\n",
    "    \n",
    "    #Mdecoder_input_b is of length None,MAX_QUERIES,MAX_DB_RESULTS,NUM_COL,MAX_ENTITY_LENGTH,CONV_VOCAB_LEN\n",
    "    dbout_encoder_maxent = TimeDistributed(TimeDistributed(TimeDistributed(LSTM(LATENT_DIM))))(decoder_input_db)\n",
    "    dbout_encoder_ncol =  Lambda(lambda x: tf.reshape(x,[-1,MAX_QUERIES,MAX_DB_RESULTS,NUM_COL*LATENT_DIM]))(dbout_encoder_maxent)\n",
    "    dbout_encoder_ncol = Dense(LATENT_DIM,activation='relu')(dbout_encoder_ncol)\n",
    "    dbout_encoder_dbr = TimeDistributed(LSTM(LATENT_DIM))(dbout_encoder_ncol)\n",
    "    other_bs_input_rep = RepeatVector(MAX_QUERIES)(other_bs_input)\n",
    "    dbout_encoder = Concatenate(axis=-1)([dbout_encoder_dbr,other_bs_input_rep])\n",
    "    _,dbout_s,dbout_h = LSTM(LATENT_DIM,return_state=True)(dbout_encoder)\n",
    "    decoder_hidden_inputs = [dbout_s,dbout_h]\n",
    "    \n",
    "    decoder_inputs = Input(shape=(MAX_SEQ_LEN,EMBEDDING_SIZE))\n",
    "    print(decoder_inputs.shape,decoder_hidden_inputs[0].shape,decoder_hidden_inputs[1].shape)\n",
    "    decoder_LSTM = LSTM(LATENT_DIM,return_sequences=True,return_state=True)\n",
    "    decoder_outputs,_,_ = decoder_LSTM(decoder_inputs,initial_state=decoder_hidden_inputs)\n",
    "    decoder_outputs = Dense(CONV_VOCAB_LEN,activation='softmax')(decoder_outputs)\n",
    "    \n",
    "    full_model = Model(inputs=[text_in,emb_state_in_h,emb_state_in_c,text_tok_in,decoder_inputs],outputs=[decoder_outputs])\n",
    "    full_model.compile(loss='categorical_crossentropy',optimizer='adam')\n",
    "    return full_model\n",
    "    "
   ]
  },
  {
   "cell_type": "code",
   "execution_count": null,
   "metadata": {},
   "outputs": [],
   "source": [
    "full_model=get_model(db_model)"
   ]
  },
  {
   "cell_type": "code",
   "execution_count": null,
   "metadata": {},
   "outputs": [],
   "source": [
    "full_model.summary()"
   ]
  },
  {
   "cell_type": "code",
   "execution_count": null,
   "metadata": {},
   "outputs": [],
   "source": [
    "inp = Input((10,vocab_len))\n",
    "encoder = LSTM(50,return_state=True)\n",
    "out,out_h,out_c=encoder(inp)\n",
    "out = Dense(vocab_len,activation='softmax')(out)\n",
    "model_rnn_2=Model(inputs=[inp],outputs=out)\n",
    "\n",
    "out_3 = frozen_db_model(model_rnn_2.output)\n",
    "out_35 = RepeatVector(10)(out_3)\n",
    "decoder = LSTM(50,return_sequences=True,return_state=True)\n",
    "out_4,_,_= decoder(out_35,initial_state=[out_h,out_c])\n",
    "out_4 = Dense(vocab_len,activation='softmax')(out_4)\n",
    "model_4 = Model(inputs=[model_rnn_2.input],outputs=[model_rnn_2.output,out_4])"
   ]
  },
  {
   "cell_type": "code",
   "execution_count": null,
   "metadata": {},
   "outputs": [],
   "source": []
  }
 ],
 "metadata": {
  "kernelspec": {
   "display_name": "Python 3",
   "language": "python",
   "name": "python3"
  },
  "language_info": {
   "codemirror_mode": {
    "name": "ipython",
    "version": 3
   },
   "file_extension": ".py",
   "mimetype": "text/x-python",
   "name": "python",
   "nbconvert_exporter": "python",
   "pygments_lexer": "ipython3",
   "version": "3.6.5"
  }
 },
 "nbformat": 4,
 "nbformat_minor": 2
}
